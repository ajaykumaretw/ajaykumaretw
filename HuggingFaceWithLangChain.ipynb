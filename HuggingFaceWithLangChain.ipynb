{
 "cells": [
  {
   "cell_type": "markdown",
   "id": "0a352ddd-e83c-4c85-9d7f-8108c221a8a3",
   "metadata": {},
   "source": [
    "#Import All required Library"
   ]
  },
  {
   "cell_type": "code",
   "execution_count": 97,
   "id": "85d9534f-741d-426e-9951-338d9833bbbd",
   "metadata": {},
   "outputs": [],
   "source": [
    "#!pip install huggingface_hub\n",
    "#!pip install transformers\n",
    "#!pip install accelerate\n",
    "#!pip install bitsandbytes\n",
    "#!pip install langchain"
   ]
  },
  {
   "cell_type": "code",
   "execution_count": 98,
   "id": "9aaf4eed-427d-45c1-ba0b-189bc21411e5",
   "metadata": {},
   "outputs": [],
   "source": [
    "from langchain import PromptTemplate,HuggingFaceHub\n",
    "from langchain.chains import LLMChain"
   ]
  },
  {
   "cell_type": "code",
   "execution_count": 99,
   "id": "7a50e4d8-428b-4912-8db8-03c614639e47",
   "metadata": {},
   "outputs": [],
   "source": [
    "import os\n"
   ]
  },
  {
   "cell_type": "code",
   "execution_count": 107,
   "id": "8049eae2-bef8-4d2b-8546-0476770a3120",
   "metadata": {},
   "outputs": [],
   "source": [
    "os.environ[\"HUGGINGFACEHUB_API_TOKEN\"]=\"hf_ZuWyRTJwUQIIUebnRNxgTakBstbXvONY\""
   ]
  },
  {
   "cell_type": "code",
   "execution_count": 108,
   "id": "b406d7d7-52d4-470b-a99d-a52e82dee790",
   "metadata": {},
   "outputs": [
    {
     "data": {
      "text/plain": [
       "'hf_ZuWyRTJwUQIIUebnRNxgTakBstbXvONY'"
      ]
     },
     "execution_count": 108,
     "metadata": {},
     "output_type": "execute_result"
    }
   ],
   "source": [
    "os.environ[\"HUGGINGFACEHUB_API_TOKEN\"]"
   ]
  },
  {
   "cell_type": "markdown",
   "id": "f2597514-c4b1-4780-a7ba-36206cb7055e",
   "metadata": {},
   "source": [
    "Text to Text Genertion Model"
   ]
  },
  {
   "cell_type": "code",
   "execution_count": 102,
   "id": "29ca5123-982b-4352-8c34-a52f51edf63f",
   "metadata": {},
   "outputs": [],
   "source": [
    "prompt=PromptTemplate(\n",
    "    input_variables=[\"product\"],\n",
    "    template=\"What a good name for a company that makes {product}\"\n",
    ")"
   ]
  },
  {
   "cell_type": "code",
   "execution_count": 103,
   "id": "03873cea-f9ce-4e82-a2d1-6f271cb26b20",
   "metadata": {},
   "outputs": [],
   "source": [
    "chain=LLMChain(llm=HuggingFaceHub(repo_id='google/flan-t5-large',model_kwargs={\"temperature\": 0.7}),prompt=prompt)"
   ]
  },
  {
   "cell_type": "code",
   "execution_count": 105,
   "id": "b2162929-4c1f-4570-84a1-69201d72cd11",
   "metadata": {},
   "outputs": [
    {
     "data": {
      "text/plain": [
       "'audi'"
      ]
     },
     "execution_count": 105,
     "metadata": {},
     "output_type": "execute_result"
    }
   ],
   "source": [
    "chain.run('car')"
   ]
  },
  {
   "cell_type": "code",
   "execution_count": 106,
   "id": "33b4df69-17a5-414f-ab13-6708a793aefb",
   "metadata": {},
   "outputs": [
    {
     "data": {
      "text/plain": [
       "'tinker bell'"
      ]
     },
     "execution_count": 106,
     "metadata": {},
     "output_type": "execute_result"
    }
   ],
   "source": [
    "chain.run('toy')"
   ]
  },
  {
   "cell_type": "code",
   "execution_count": null,
   "id": "9234bfda-a095-4d81-9781-6f9d1801d743",
   "metadata": {},
   "outputs": [],
   "source": []
  }
 ],
 "metadata": {
  "kernelspec": {
   "display_name": "Python 3 (ipykernel)",
   "language": "python",
   "name": "python3"
  },
  "language_info": {
   "codemirror_mode": {
    "name": "ipython",
    "version": 3
   },
   "file_extension": ".py",
   "mimetype": "text/x-python",
   "name": "python",
   "nbconvert_exporter": "python",
   "pygments_lexer": "ipython3",
   "version": "3.11.8"
  }
 },
 "nbformat": 4,
 "nbformat_minor": 5
}
