{
 "cells": [
  {
   "cell_type": "markdown",
   "id": "0a352ddd-e83c-4c85-9d7f-8108c221a8a3",
   "metadata": {},
   "source": [
    "#Import All required Library"
   ]
  },
  {
   "cell_type": "code",
   "execution_count": 121,
   "id": "85d9534f-741d-426e-9951-338d9833bbbd",
   "metadata": {},
   "outputs": [],
   "source": [
    "#!pip install huggingface_hub\n",
    "#!pip install transformers\n",
    "#!pip install accelerate\n",
    "#!pip install bitsandbytes\n",
    "#!pip install langchain"
   ]
  },
  {
   "cell_type": "code",
   "execution_count": 122,
   "id": "9aaf4eed-427d-45c1-ba0b-189bc21411e5",
   "metadata": {},
   "outputs": [],
   "source": [
    "from langchain import PromptTemplate,HuggingFaceHub\n",
    "from langchain.chains import LLMChain"
   ]
  },
  {
   "cell_type": "code",
   "execution_count": 50,
   "id": "7a50e4d8-428b-4912-8db8-03c614639e47",
   "metadata": {},
   "outputs": [],
   "source": [
    "import os\n"
   ]
  },
  {
   "cell_type": "code",
   "execution_count": 53,
   "id": "8049eae2-bef8-4d2b-8546-0476770a3120",
   "metadata": {},
   "outputs": [],
   "source": [
    "os.environ[\"HUGGINGFACEHUB_API_TOKEN\"]=\"hf_ZuWyRTJwUQIIUebnRNxgTakBstbjcikkkkkiNY\""
   ]
  },
  {
   "cell_type": "markdown",
   "id": "f2597514-c4b1-4780-a7ba-36206cb7055e",
   "metadata": {},
   "source": [
    "Text to Text Genertion Model"
   ]
  },
  {
   "cell_type": "code",
   "execution_count": 55,
   "id": "29ca5123-982b-4352-8c34-a52f51edf63f",
   "metadata": {},
   "outputs": [],
   "source": [
    "prompt=PromptTemplate(\n",
    "    input_variables=[\"product\"],\n",
    "    template=\"What a good name for a  company that makes {product} in india\"\n",
    ")"
   ]
  },
  {
   "cell_type": "code",
   "execution_count": 56,
   "id": "03873cea-f9ce-4e82-a2d1-6f271cb26b20",
   "metadata": {},
   "outputs": [
    {
     "ename": "NameError",
     "evalue": "name 'HuggingFaceHub' is not defined",
     "output_type": "error",
     "traceback": [
      "\u001b[1;31m---------------------------------------------------------------------------\u001b[0m",
      "\u001b[1;31mNameError\u001b[0m                                 Traceback (most recent call last)",
      "Cell \u001b[1;32mIn[56], line 1\u001b[0m\n\u001b[1;32m----> 1\u001b[0m chain\u001b[38;5;241m=\u001b[39mLLMChain(llm\u001b[38;5;241m=\u001b[39m\u001b[43mHuggingFaceHub\u001b[49m(repo_id\u001b[38;5;241m=\u001b[39m\u001b[38;5;124m'\u001b[39m\u001b[38;5;124mgoogle/flan-t5-large\u001b[39m\u001b[38;5;124m'\u001b[39m,model_kwargs\u001b[38;5;241m=\u001b[39m{\u001b[38;5;124m\"\u001b[39m\u001b[38;5;124mtemperature\u001b[39m\u001b[38;5;124m\"\u001b[39m: \u001b[38;5;241m0.7\u001b[39m}),prompt\u001b[38;5;241m=\u001b[39mprompt)\n",
      "\u001b[1;31mNameError\u001b[0m: name 'HuggingFaceHub' is not defined"
     ]
    }
   ],
   "source": [
    "chain=LLMChain(llm=HuggingFaceHub(repo_id='google/flan-t5-large',model_kwargs={\"temperature\": 0.7}),prompt=prompt)"
   ]
  },
  {
   "cell_type": "code",
   "execution_count": 57,
   "id": "b2162929-4c1f-4570-84a1-69201d72cd11",
   "metadata": {},
   "outputs": [
    {
     "data": {
      "text/plain": [
       "'Cricketer car is a British car manufacturer.'"
      ]
     },
     "execution_count": 57,
     "metadata": {},
     "output_type": "execute_result"
    }
   ],
   "source": [
    "chain.run('car')"
   ]
  },
  {
   "cell_type": "code",
   "execution_count": 144,
   "id": "33b4df69-17a5-414f-ab13-6708a793aefb",
   "metadata": {},
   "outputs": [
    {
     "data": {
      "text/plain": [
       "'samsung'"
      ]
     },
     "execution_count": 144,
     "metadata": {},
     "output_type": "execute_result"
    }
   ],
   "source": [
    "chain.run('toy')"
   ]
  },
  {
   "cell_type": "code",
   "execution_count": 145,
   "id": "e018a9af-442d-43a2-9478-f8ddf860c323",
   "metadata": {},
   "outputs": [
    {
     "data": {
      "text/plain": [
       "'safflower'"
      ]
     },
     "execution_count": 145,
     "metadata": {},
     "output_type": "execute_result"
    }
   ],
   "source": [
    "chain.run('utensil')"
   ]
  },
  {
   "cell_type": "code",
   "execution_count": 146,
   "id": "bc360e69-748d-4133-89f5-7dca1d33bd25",
   "metadata": {},
   "outputs": [
    {
     "data": {
      "text/plain": [
       "'Asus'"
      ]
     },
     "execution_count": 146,
     "metadata": {},
     "output_type": "execute_result"
    }
   ],
   "source": [
    "chain.run('laptop')"
   ]
  },
  {
   "cell_type": "code",
   "execution_count": 148,
   "id": "1684d89a-5eae-43ae-840f-60bb252d429b",
   "metadata": {},
   "outputs": [
    {
     "data": {
      "text/plain": [
       "'kodak'"
      ]
     },
     "execution_count": 148,
     "metadata": {},
     "output_type": "execute_result"
    }
   ],
   "source": [
    "chain.run('camera')"
   ]
  },
  {
   "cell_type": "code",
   "execution_count": 149,
   "id": "4a63d7c7-a27e-429a-b447-b611fe1806e8",
   "metadata": {},
   "outputs": [
    {
     "data": {
      "text/plain": [
       "'saavn'"
      ]
     },
     "execution_count": 149,
     "metadata": {},
     "output_type": "execute_result"
    }
   ],
   "source": [
    "chain.run('it')"
   ]
  },
  {
   "cell_type": "markdown",
   "id": "b5e4896c-df20-401a-9355-2c3f756c37b5",
   "metadata": {},
   "source": [
    "Text Genertion model || Decoder only model"
   ]
  },
  {
   "cell_type": "code",
   "execution_count": 24,
   "id": "baabd72f-d5b6-49ad-a016-0b405d6852b9",
   "metadata": {},
   "outputs": [],
   "source": [
    "from langchain import HuggingFacePipeline\n",
    "from langchain.chains import LLMChain\n",
    "from langchain.prompts import PromptTemplate \n",
    "import torch\n",
    "from transformers import AutoTokenizer,AutoModelForCausalLM,pipeline,AutoModelForSeq2SeqLM"
   ]
  },
  {
   "cell_type": "code",
   "execution_count": 25,
   "id": "a90ce7c8-4838-4c76-a915-a1eaef19e5a4",
   "metadata": {},
   "outputs": [],
   "source": [
    "model_id='google/flan-t5-large'"
   ]
  },
  {
   "cell_type": "code",
   "execution_count": 26,
   "id": "1e909acf-2bd9-4d47-bfad-db7af631f936",
   "metadata": {},
   "outputs": [],
   "source": [
    "token=AutoTokenizer.from_pretrained(model_id)"
   ]
  },
  {
   "cell_type": "code",
   "execution_count": 27,
   "id": "b3aba81c-8150-4222-80c6-c449affb886c",
   "metadata": {},
   "outputs": [],
   "source": [
    "model=AutoModelForSeq2SeqLM.from_pretrained(model_id,device_map='auto')"
   ]
  },
  {
   "cell_type": "code",
   "execution_count": 28,
   "id": "4bb43175-47cb-4905-8a97-c9df9e89f5d7",
   "metadata": {},
   "outputs": [],
   "source": [
    "pipeline=pipeline('text2text-generation',model=model,tokenizer=token,max_length=128)"
   ]
  },
  {
   "cell_type": "code",
   "execution_count": 29,
   "id": "2294d7f6-49cc-42f0-a59d-2e0dac538d75",
   "metadata": {},
   "outputs": [
    {
     "data": {
      "text/plain": [
       "<transformers.pipelines.text2text_generation.Text2TextGenerationPipeline at 0x207aab2e810>"
      ]
     },
     "execution_count": 29,
     "metadata": {},
     "output_type": "execute_result"
    }
   ],
   "source": [
    "pipeline"
   ]
  },
  {
   "cell_type": "code",
   "execution_count": 30,
   "id": "0fc74117-64ed-4bac-9dfb-f7e12542815e",
   "metadata": {},
   "outputs": [],
   "source": [
    "localllm=HuggingFacePipeline(pipeline=pipeline)"
   ]
  },
  {
   "cell_type": "code",
   "execution_count": 43,
   "id": "be0fa553-d9bd-4d71-bc4c-a6aa9b512401",
   "metadata": {},
   "outputs": [],
   "source": [
    "prompt=PromptTemplate(\n",
    "    input_variables=[\"player_name\"],\n",
    "    template=\"Tell me about cricketer {player_name}\"\n",
    ")"
   ]
  },
  {
   "cell_type": "code",
   "execution_count": 44,
   "id": "ae171a5c-70af-4829-ac37-b71ab50d31a1",
   "metadata": {},
   "outputs": [],
   "source": [
    "chain=LLMChain(llm=localllm,prompt=prompt)"
   ]
  },
  {
   "cell_type": "code",
   "execution_count": 45,
   "id": "1dadf56d-3769-4eb4-a4ad-1c33894a1722",
   "metadata": {},
   "outputs": [
    {
     "data": {
      "text/plain": [
       "'Virat Kohli is an Indian cricketer.'"
      ]
     },
     "execution_count": 45,
     "metadata": {},
     "output_type": "execute_result"
    }
   ],
   "source": [
    "chain.run('Virat kohli')"
   ]
  },
  {
   "cell_type": "code",
   "execution_count": 47,
   "id": "cbe64a93-a826-4c45-a79f-8dd72e84eea2",
   "metadata": {},
   "outputs": [
    {
     "data": {
      "text/plain": [
       "'Smriti Mandhana (born 19 October 1971) is a former Indian cricketer.'"
      ]
     },
     "execution_count": 47,
     "metadata": {},
     "output_type": "execute_result"
    }
   ],
   "source": [
    "chain.run('Smriti Mandhana')"
   ]
  },
  {
   "cell_type": "code",
   "execution_count": 48,
   "id": "ce44256f-4a90-477d-a249-cd8cf11c82d8",
   "metadata": {},
   "outputs": [
    {
     "data": {
      "text/plain": [
       "'Saurabh Ganguli is an Indian cricketer. He played for the Indian Premier League side, Mumbai Indians.'"
      ]
     },
     "execution_count": 48,
     "metadata": {},
     "output_type": "execute_result"
    }
   ],
   "source": [
    "chain.run('Saurabh Ganguly')"
   ]
  },
  {
   "cell_type": "code",
   "execution_count": null,
   "id": "8a79c3f7-e31a-4460-ae03-a2730067d5b4",
   "metadata": {},
   "outputs": [],
   "source": []
  }
 ],
 "metadata": {
  "kernelspec": {
   "display_name": "Python 3 (ipykernel)",
   "language": "python",
   "name": "python3"
  },
  "language_info": {
   "codemirror_mode": {
    "name": "ipython",
    "version": 3
   },
   "file_extension": ".py",
   "mimetype": "text/x-python",
   "name": "python",
   "nbconvert_exporter": "python",
   "pygments_lexer": "ipython3",
   "version": "3.11.8"
  }
 },
 "nbformat": 4,
 "nbformat_minor": 5
}
