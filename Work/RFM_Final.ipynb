{
 "cells": [
  {
   "cell_type": "code",
   "execution_count": null,
   "id": "810d0551-fda2-4582-ace9-004ebf7bda68",
   "metadata": {},
   "outputs": [],
   "source": [
    "'''\n",
    "RFM Analysis is an extremely effective marketing technique. It is used to analyse and segment an organization’s customer base based on the customer’s interaction behaviour with the business.\n",
    "RFM stands for Recency, Frequency, and Monetary Value. These three key metrics assist us in understanding and segmenting consumers by giving data on their engagement rate, loyalty, and value to a business. We may use this information to prepare for future organizational improvements such as targeted marketing, customer retention programs, resource allocation, and personalized customer interactions.\n",
    "'''\n",
    "import numpy as np # linear algebra\n",
    "import pandas as pd # data processing, CSV file I/O (e.g. pd.read_csv)\n",
    "import seaborn as sns\n",
    "import datetime as dt\n",
    "from os import path\n",
    "from wordcloud import WordCloud\n",
    "import matplotlib.pyplot as plt\n",
    "import warnings\n",
    "import dtale"
   ]
  },
  {
   "cell_type": "code",
   "execution_count": null,
   "id": "7ea95005-be72-45e7-a31f-681343c71332",
   "metadata": {},
   "outputs": [],
   "source": [
    "supermarket=pd.read_csv('E:/Work/customer_supermarket.csv',sep='\\t',index_col=0)\n",
    "supermarket['source'] = 'test'\n",
    "data= supermarket[pd.notnull(supermarket['CustomerID'])]\n",
    "#dtale.show(data)\n",
    "dtale.show(data).open_browser()"
   ]
  },
  {
   "cell_type": "code",
   "execution_count": null,
   "id": "2c3a3704-e5e9-445a-bbda-0cc3afec2380",
   "metadata": {},
   "outputs": [],
   "source": [
    "supermarket.shape"
   ]
  },
  {
   "cell_type": "code",
   "execution_count": null,
   "id": "a3d7b049-eba9-4592-a322-616c99827067",
   "metadata": {},
   "outputs": [],
   "source": [
    "supermarket.head()"
   ]
  },
  {
   "cell_type": "code",
   "execution_count": null,
   "id": "31e77787-3e4e-496c-b2b2-a02c60cf4204",
   "metadata": {},
   "outputs": [],
   "source": [
    "supermarket.describe()\n"
   ]
  },
  {
   "cell_type": "code",
   "execution_count": null,
   "id": "6f7cdf0e-db40-4c38-bbfe-6fd94a6d8a96",
   "metadata": {},
   "outputs": [],
   "source": [
    "# store numerical and categorical column in two different variables. It comes handy during visualizaion.\n",
    "total_columns = supermarket.columns\n",
    "num_col = supermarket._get_numeric_data().columns\n",
    "cat_col = list(set(total_columns)-set(num_col))\n",
    "describe_num_df = supermarket.describe(include=['int64','float64'])\n",
    "describe_num_df.reset_index(inplace=True)\n",
    "# To remove any variable from plot\n",
    "describe_num_df = describe_num_df[describe_num_df['index'] != 'count']\n",
    "for i in num_col:\n",
    "  if i in ['index']:\n",
    "    continue\n",
    "  sns.catplot(x='index', y=i, data=describe_num_df,kind=\"bar)\n",
    "  plt.show()"
   ]
  },
  {
   "cell_type": "code",
   "execution_count": null,
   "id": "254eed00-54df-43ee-8d2c-bdc5b35a5cf0",
   "metadata": {},
   "outputs": [],
   "source": [
    "print(len(num_col))\n",
    "print(len(cat_col))"
   ]
  },
  {
   "cell_type": "code",
   "execution_count": null,
   "id": "f07787f6-a40d-480f-808f-d2a92d816043",
   "metadata": {},
   "outputs": [],
   "source": [
    "print(supermarket['CustomerID'].value_counts())"
   ]
  },
  {
   "cell_type": "code",
   "execution_count": null,
   "id": "efadc0a5-2bc2-448d-b859-5e79d1a8fce0",
   "metadata": {},
   "outputs": [],
   "source": [
    "Expensive_Purchases = supermarket.groupby(\"CustomerCountry\")[[\"Sale\"]].max().sort_values(\"Sale\", ascending=False)\n",
    "print(Expensive_Purchases.head(10))"
   ]
  },
  {
   "cell_type": "code",
   "execution_count": null,
   "id": "f2d92828-3efc-4751-a0b1-0f40ff08a567",
   "metadata": {},
   "outputs": [],
   "source": [
    "supermarket['CustomerCountry'].value_counts()[:10].plot(kind='bar')"
   ]
  },
  {
   "cell_type": "code",
   "execution_count": null,
   "id": "a0b27932-718f-4c57-84d1-15937942e0e9",
   "metadata": {},
   "outputs": [],
   "source": [
    "null_df = supermarket.apply(lambda x: sum(x.isnull())).to_frame(name=\"count\")\n",
    "print(null_df)\n",
    "plt.plot(null_df.index, null_df['count'])\n",
    "plt.xticks(null_df.index, null_df.index, rotation=45,\n",
    "horizontalalignment='right')\n",
    "plt.xlabel('column names')\n",
    "plt.margins(0.1)\n",
    "plt.show()"
   ]
  },
  {
   "cell_type": "code",
   "execution_count": null,
   "id": "d338fd82-5e06-4cbd-a4dd-121bf70b9394",
   "metadata": {},
   "outputs": [],
   "source": [
    "for i in cat_col:\n",
    "   if i in ['source']:\n",
    "      continue\n",
    "   plt.figure(figsize=(10, 5))\n",
    "   chart = sns.countplot(\n",
    "   data=supermarket,\n",
    "   x=i,\n",
    "   palette='Set1'\n",
    " )\n",
    "   chart.set_xticklabels(chart.get_xticklabels(), rotation=45)\n",
    "   plt.show()"
   ]
  },
  {
   "cell_type": "code",
   "execution_count": null,
   "id": "e8f022b7-447b-4d98-a4c7-8daad2c38439",
   "metadata": {},
   "outputs": [],
   "source": [
    "for i in num_col:\n",
    "   if i in ['source']:\n",
    "     continue\n",
    "   plt.figure(figsize=(10, 5))\n",
    "   chart = sns.countplot(\n",
    "             data=supermarket,\n",
    "             x=i,\n",
    "             palette='Set1',\n",
    "# This option plot top category of numerical values.\n",
    "             order=pd.value_counts(supermarket[i]).iloc[:10].index\n",
    "           )\n",
    "   chart.set_xticklabels(chart.get_xticklabels(), rotation=45)\n",
    "   plt.show()"
   ]
  },
  {
   "cell_type": "code",
   "execution_count": null,
   "id": "f45cbe91-3990-4da0-ba24-856e7067e5ea",
   "metadata": {},
   "outputs": [],
   "source": [
    "skew = {}\n",
    "kurt = {}\n",
    "for i in num_col:\n",
    "# to skip columns for plotting\n",
    "   if i in ['num_orders']:\n",
    "       continue\n",
    "   skew[i] = supermarket[i].skew()\n",
    "   kurt[i] = supermarket[i].kurt()\n",
    "print(skew)"
   ]
  },
  {
   "cell_type": "code",
   "execution_count": null,
   "id": "a372bd97-be60-48b1-a176-e67557bef73c",
   "metadata": {},
   "outputs": [],
   "source": [
    "print(supermarket.shape)\n"
   ]
  },
  {
   "cell_type": "code",
   "execution_count": null,
   "id": "e6ffbb6d-c428-4c12-bbd6-1e4fd774e672",
   "metadata": {},
   "outputs": [],
   "source": [
    "print(supermarket.dtypes)"
   ]
  },
  {
   "cell_type": "code",
   "execution_count": null,
   "id": "f4ea573f-e500-4499-8bb1-c015aec2ab6e",
   "metadata": {},
   "outputs": [],
   "source": [
    "#Check Weather Any column having null or not\n",
    "print(supermarket.isnull().any())"
   ]
  },
  {
   "cell_type": "code",
   "execution_count": null,
   "id": "4fe6117c-dfda-4eee-ab05-1609fa80874b",
   "metadata": {},
   "outputs": [],
   "source": [
    "#As BasketID is object type so We have to check existing Data\n",
    "codes=supermarket[supermarket[\"BasketID\"].str.contains('^[a-zA-Z]+',regex=True)][\"BasketID\"].unique()\n",
    "print(pd.Series(codes).apply(lambda x:x[0]).unique())\n",
    "\n",
    "print('Conains C in BasketID: {0}'.format(supermarket[supermarket[\"BasketID\"].str.contains('C')].shape[0]))\n",
    "print('Conains A in BasketID: {0}'.format(supermarket[supermarket[\"BasketID\"].str.contains('A')].shape[0]))\n",
    "\n",
    "cancelledOrder=supermarket[supermarket['BasketID'].str.contains('C')]\n",
    "print(cancelledOrder)\n",
    "\n",
    "Total_beforeDrop=supermarket.shape[0]\n",
    "supermarket.drop_duplicates(ignore_index=True,inplace=True)\n",
    "Total_AfterDrop=supermarket.shape[0]\n",
    "remainTotal=Total_beforeDrop-Total_AfterDrop\n",
    "CancelledRecords=remainTotal/Total_beforeDrop*100\n",
    "print('Cancelled Records: {0} %'.format(CancelledRecords))\n",
    "\n",
    "DebtedOrder=supermarket[supermarket['BasketID'].str.contains('A')]\n",
    "print(DebtedOrder)\n",
    "\n",
    "specialCodes=supermarket[supermarket[\"ProdID\"].str.contains('^[a-zA-Z]+',regex=True)][\"ProdID\"].unique()\n",
    "for code in specialCodes:\n",
    "  print('{0} having Description: {1}'.format(code,supermarket[supermarket[\"ProdID\"]==code][\"ProdDescr\"].unique()[0]))"
   ]
  },
  {
   "cell_type": "code",
   "execution_count": null,
   "id": "5c31f48a-a5c6-4aae-8f29-946c8036b72e",
   "metadata": {},
   "outputs": [],
   "source": [
    "print(supermarket.head(10))"
   ]
  },
  {
   "cell_type": "code",
   "execution_count": null,
   "id": "841d924b-0d39-405c-b777-edb67616bd21",
   "metadata": {},
   "outputs": [],
   "source": [
    "print(supermarket.describe())"
   ]
  },
  {
   "cell_type": "code",
   "execution_count": null,
   "id": "795eff03-9396-48a9-a889-4c8bf312c8ec",
   "metadata": {},
   "outputs": [],
   "source": [
    "supermarket.shape"
   ]
  },
  {
   "cell_type": "code",
   "execution_count": null,
   "id": "5e9559eb-d161-4aec-a50d-9fafc8797aab",
   "metadata": {},
   "outputs": [],
   "source": [
    "print(supermarket.columns)"
   ]
  },
  {
   "cell_type": "code",
   "execution_count": null,
   "id": "3f76eef8-462f-49ae-bc46-39408034de4c",
   "metadata": {},
   "outputs": [],
   "source": [
    "print(supermarket.isnull().sum())"
   ]
  },
  {
   "cell_type": "code",
   "execution_count": null,
   "id": "c475be4d-0b01-41a5-9f11-a599f1a515ab",
   "metadata": {},
   "outputs": [],
   "source": [
    "#Missing values\n",
    "sns.heatmap(supermarket.tail(3000).isna(),cmap = 'Greens')\n"
   ]
  },
  {
   "cell_type": "code",
   "execution_count": null,
   "id": "3dc57867-82a5-4bee-a267-3a0b7a50cebb",
   "metadata": {},
   "outputs": [],
   "source": [
    "print(supermarket['BasketDate'].nunique())"
   ]
  },
  {
   "cell_type": "code",
   "execution_count": null,
   "id": "f5824999-6f67-4900-82fe-89415165f4b9",
   "metadata": {},
   "outputs": [],
   "source": [
    "print(supermarket['BasketDate'].unique())"
   ]
  },
  {
   "cell_type": "code",
   "execution_count": null,
   "id": "c708d2dc-2cd7-4f5c-ab2a-c2b098a950ce",
   "metadata": {},
   "outputs": [],
   "source": [
    "data= supermarket[pd.notnull(supermarket['CustomerID'])]\n",
    "data"
   ]
  },
  {
   "cell_type": "code",
   "execution_count": null,
   "id": "b3f9e1df-75ae-4f95-9cbc-207fb199083f",
   "metadata": {},
   "outputs": [],
   "source": [
    "nullCustomer=supermarket[\"CustomerID\"].isnull().sum()\n",
    "print(nullCustomer)\n",
    "totalSample=supermarket.shape\n",
    "totalSample"
   ]
  },
  {
   "cell_type": "code",
   "execution_count": null,
   "id": "38330932-4b15-47c7-8c7c-7ecdd7f7b4b6",
   "metadata": {},
   "outputs": [],
   "source": [
    "#remove null values\n",
    "supermarket = supermarket.dropna()\n",
    "#supermarket=data[['CustomerCountry','CustomerID']].drop_duplicates()\n",
    "#Check Null values after remove.\n",
    "nullCustomer_afterDrop=supermarket.isnull().sum()\n",
    "print(nullCustomer_afterDrop)"
   ]
  },
  {
   "cell_type": "code",
   "execution_count": null,
   "id": "60261e1b-d4be-474d-b5fc-dd2ab3ca3394",
   "metadata": {},
   "outputs": [],
   "source": [
    "#supermarket[\"CustomerID\"]=supermarket[\"CustomerID\"].astype('number')\n",
    "supermarket['BasketDate'] = pd.to_datetime(supermarket['BasketDate'])\n",
    "supermarket['Sale'] = supermarket['Sale'].str.replace(',','.')\n",
    "supermarket['Sale'] =pd.to_numeric(supermarket['Sale'])\n",
    "supermarket['Max_Year_Date'] = supermarket['BasketDate'].max() \n",
    "supermarket['Year'] = supermarket['BasketDate'].dt.year"
   ]
  },
  {
   "cell_type": "code",
   "execution_count": null,
   "id": "39762cff-0184-4b42-88c9-2ca86181aa9d",
   "metadata": {},
   "outputs": [],
   "source": [
    "supermarket[\"CustomerID\"]=supermarket[\"CustomerID\"].astype('object')\n"
   ]
  },
  {
   "cell_type": "code",
   "execution_count": null,
   "id": "50e0f443-9efe-4d3b-ba8d-e7246897d2b1",
   "metadata": {},
   "outputs": [],
   "source": [
    "print(supermarket.dtypes)"
   ]
  },
  {
   "cell_type": "code",
   "execution_count": null,
   "id": "6ddeb530-f805-4092-8c2b-e44a8231b79f",
   "metadata": {},
   "outputs": [],
   "source": [
    "print(supermarket.info())\n"
   ]
  },
  {
   "cell_type": "code",
   "execution_count": null,
   "id": "763b1a2d-92a9-4ab9-a669-a322546d0d34",
   "metadata": {},
   "outputs": [],
   "source": [
    "print(supermarket.describe())"
   ]
  },
  {
   "cell_type": "code",
   "execution_count": null,
   "id": "1fa2b662-e270-4935-8a9d-00e90a1c2c2d",
   "metadata": {},
   "outputs": [],
   "source": [
    "#As Quantity is negative after check supermarket.describe()\n",
    "supermarket =supermarket[(supermarket['Qta']>0)]"
   ]
  },
  {
   "cell_type": "code",
   "execution_count": null,
   "id": "2008405f-620b-43d8-ac99-f10b969c2caf",
   "metadata": {},
   "outputs": [],
   "source": [
    "supermarket"
   ]
  },
  {
   "cell_type": "code",
   "execution_count": null,
   "id": "f84eca01-60e3-4c8c-8973-3f414bcc8b36",
   "metadata": {},
   "outputs": [],
   "source": [
    "supermarket.describe()"
   ]
  },
  {
   "cell_type": "code",
   "execution_count": null,
   "id": "9d39f195-6f63-49d8-b5c9-32b678d52145",
   "metadata": {},
   "outputs": [],
   "source": [
    "supermarket"
   ]
  },
  {
   "cell_type": "code",
   "execution_count": null,
   "id": "85f9f60d-5404-4a21-aeca-a70e6773028d",
   "metadata": {},
   "outputs": [],
   "source": [
    "supermarket.reset_index(inplace=True)\n",
    "supermarket['Date_Interval'] = supermarket['Max_Year_Date'] - supermarket['BasketDate']"
   ]
  },
  {
   "cell_type": "code",
   "execution_count": null,
   "id": "17b85538-6cf3-4be0-a986-3c2fe2c22b93",
   "metadata": {},
   "outputs": [],
   "source": [
    "# plotting the points  \n",
    "plt.plot(supermarket.CustomerID, supermarket.Date_Interval) \n",
    "# naming the x axis \n",
    "plt.xlabel('CustomerID') \n",
    "# naming the y axis \n",
    "plt.ylabel('Date_Interval') \n",
    "  \n",
    "# giving a title to my graph \n",
    "plt.title('Graph') \n",
    "plt.show() "
   ]
  },
  {
   "cell_type": "code",
   "execution_count": null,
   "id": "9ed22280-0de2-40e7-8351-4ef673a08812",
   "metadata": {},
   "outputs": [],
   "source": [
    "supermarket['Date_Interval'] = supermarket['Max_Year_Date'] - supermarket['BasketDate']"
   ]
  },
  {
   "cell_type": "code",
   "execution_count": null,
   "id": "8690e886-660b-4e26-80db-7a2866b78aec",
   "metadata": {},
   "outputs": [],
   "source": [
    "supermarket"
   ]
  },
  {
   "cell_type": "code",
   "execution_count": null,
   "id": "4478780a-5ec5-4970-9d06-27750bbd5df7",
   "metadata": {},
   "outputs": [],
   "source": [
    "rfm_gb = supermarket.groupby(['Year', 'CustomerID'], as_index = False).agg({'Date_Interval': 'min', 'BasketDate': 'count', 'Sale': 'mean'})\n",
    "rfm_gb.columns = ['Year', 'CustomerID', 'R', 'F', 'M']"
   ]
  },
  {
   "cell_type": "code",
   "execution_count": null,
   "id": "f3676fe9-a099-42fd-99fa-569faf51afba",
   "metadata": {},
   "outputs": [],
   "source": [
    "rfm_gb"
   ]
  },
  {
   "cell_type": "code",
   "execution_count": null,
   "id": "14921343-7446-4079-860f-e8a61e3b9cea",
   "metadata": {},
   "outputs": [],
   "source": [
    "plt.figure(figsize=(20, 15))\n",
    "plt.subplot(3, 3, 1)\n",
    "sns.distplot(rfm_gb['R'])\n",
    "plt.subplot(3, 3, 2)\n",
    "sns.distplot(rfm_gb['F'])\n",
    "plt.subplot(3, 3, 3)\n",
    "sns.distplot(rfm_gb['M'])\n",
    "\n",
    "rfm_gb.describe()\n"
   ]
  },
  {
   "cell_type": "code",
   "execution_count": null,
   "id": "31f2791d-1e02-4d58-b414-35d17fc82d7c",
   "metadata": {},
   "outputs": [],
   "source": [
    "    rfm_gb['R_Quartile'] = pd.qcut(rfm_gb['R'], 4, ['1','2','3','4'])\n",
    "    rfm_gb['F_Quartile'] = pd.qcut(rfm_gb['F'], 4, ['4','3','2','1'])\n",
    "    rfm_gb['M_Quartile'] = pd.qcut(rfm_gb['M'], 4, ['4','3','2','1'])\n",
    "    rfm_gb.head(10)"
   ]
  },
  {
   "cell_type": "code",
   "execution_count": null,
   "id": "74cce87a-e2a5-4519-b1b8-e752a8849fa5",
   "metadata": {},
   "outputs": [],
   "source": [
    "rfm_gb.head(20)"
   ]
  },
  {
   "cell_type": "code",
   "execution_count": null,
   "id": "79f1aca6-c64f-4946-99e5-6a1388fdc4a0",
   "metadata": {},
   "outputs": [],
   "source": [
    "    #Quartile 1 Considered as Top score and Quantile 4 Considered as the lowest score for all Recency Frequency & Monetary\n",
    "    #Now we can combine all three Quantile score in a single column, and it will help us to create the logic base Customer segmentation as per the business criteria.\n",
    "    #111 will be considered as the best performing customer as they have lowest recency and highest frequency and monetary. 444 will be the worst segment\n",
    "    #rfm_gb['RFM_Score'] = rfm_gb.R_Quartile.astype(str)+ rfm_gb.F_Quartile.astype(str) + rfm_gb.M_Quartile.astype(str)\n",
    "    rfm_gb.head()\n",
    "    # Filter out Top/Best customers as (111)\n",
    "    rfm_gb[rfm_gb['RFM_Score']=='111'].sort_values('M', ascending=False).head(30)"
   ]
  },
  {
   "cell_type": "code",
   "execution_count": null,
   "id": "1096a8e5-a20a-4128-a2d4-2effffef615a",
   "metadata": {},
   "outputs": [],
   "source": [
    "recency_scores = [5, 4, 3, 2, 1]\n",
    "frequency_scores = [1, 2, 3, 4, 5]\n",
    "monetary_scores = [1, 2, 3, 4, 5]\n",
    "\n",
    "rfm_gb['RecencyScore'] = pd.cut(rfm_gb['R'], bins = 5, labels= recency_scores)\n",
    "rfm_gb['FrequencyScore'] = pd.cut(rfm_gb['F'], bins = 5, labels= frequency_scores)\n",
    "rfm_gb['MonetaryScore'] = pd.cut(rfm_gb['M'], bins= 5, labels= monetary_scores)"
   ]
  },
  {
   "cell_type": "code",
   "execution_count": null,
   "id": "43f062b9-a960-478e-a411-b0765d7f8c9a",
   "metadata": {},
   "outputs": [],
   "source": [
    "# Convert RFM scores to numeric type\n",
    "rfm_gb['RecencyScore'] = rfm_gb['RecencyScore'].astype(int)\n",
    "rfm_gb['FrequencyScore'] = rfm_gb['FrequencyScore'].astype(int)\n",
    "rfm_gb['MonetaryScore'] = rfm_gb['MonetaryScore'].astype(int)"
   ]
  },
  {
   "cell_type": "code",
   "execution_count": null,
   "id": "8212efb2-b313-448c-92f9-547a95c487b2",
   "metadata": {},
   "outputs": [],
   "source": [
    "rfm_gb['RFM_Score'] = rfm_gb['RecencyScore'] + rfm_gb['FrequencyScore'] + rfm_gb['MonetaryScore']"
   ]
  },
  {
   "cell_type": "code",
   "execution_count": null,
   "id": "35327759-8560-4910-ac51-7015055b0499",
   "metadata": {},
   "outputs": [],
   "source": [
    "rfm_gb"
   ]
  },
  {
   "cell_type": "code",
   "execution_count": null,
   "id": "43e8c6da-bdeb-4d6d-87aa-4f6f8d336557",
   "metadata": {},
   "outputs": [],
   "source": [
    "segment_labels = ['Low-Value', 'Mid-Value', 'High-Value']\n",
    "rfm_gb['Value Segment'] = pd.qcut(rfm_gb['RFM_Score'], q= 3, labels= segment_labels)"
   ]
  },
  {
   "cell_type": "code",
   "execution_count": null,
   "id": "a99f9a3e-6bf0-43f0-a673-9e3fdb4cb3ab",
   "metadata": {},
   "outputs": [],
   "source": [
    "rfm_gb"
   ]
  },
  {
   "cell_type": "code",
   "execution_count": null,
   "id": "2f08eec6-6eaf-4b3a-912f-1b8a6ef93c37",
   "metadata": {},
   "outputs": [],
   "source": [
    "segment_counts = rfm_gb['Value Segment'].value_counts().reset_index()\n",
    "segment_counts.columns = ['Value Segment', 'Count']\n",
    "\n",
    "pastel_colors = sns.color_palette('pastel')\n",
    "\n",
    "plt.figure(figsize=(10,6))\n",
    "sns.barplot(data = segment_counts, x = 'Value Segment', y = 'Count', palette= pastel_colors)\n",
    "\n",
    "plt.title('RFM Value Segment Distribution')\n",
    "plt.xlabel('RFM Value Segment')\n",
    "plt.ylabel('Count')\n",
    "\n",
    "plt.show()"
   ]
  },
  {
   "cell_type": "code",
   "execution_count": null,
   "id": "92cb95d9-dd9b-434e-913f-8cc904147cb7",
   "metadata": {},
   "outputs": [],
   "source": [
    "rfm_gb['RFM Customer Segments'] = ''\n",
    "rfm_gb.loc[rfm_gb['RFM_Score'] >= 9, 'RFM Customer Segments'] = 'Champions'\n",
    "rfm_gb.loc[(rfm_gb['RFM_Score'] >= 6) & (rfm_gb['RFM_Score'] < 9), 'RFM Customer Segments'] = 'Potential Loyalists'\n",
    "rfm_gb.loc[(rfm_gb['RFM_Score'] >= 5) & (rfm_gb['RFM_Score'] < 6), 'RFM Customer Segments'] = 'At-Risk Customers'\n",
    "rfm_gb.loc[(rfm_gb['RFM_Score'] >= 4) & (rfm_gb['RFM_Score'] < 5), 'RFM Customer Segments'] = 'Cannot Lose'\n",
    "rfm_gb.loc[(rfm_gb['RFM_Score'] >= 3) & (rfm_gb['RFM_Score'] < 4), 'RFM Customer Segments'] = 'Lost'"
   ]
  },
  {
   "cell_type": "code",
   "execution_count": null,
   "id": "65e44abe-dd6c-4890-a385-4fa292a93320",
   "metadata": {},
   "outputs": [],
   "source": [
    "segment_product_counts = rfm_gb.groupby(['Value Segment', 'RFM Customer Segments']).size().reset_index(name = 'Count')\n",
    "segment_product_counts = segment_product_counts.sort_values('Count', ascending= False)\n",
    "segment_product_counts = segment_product_counts[segment_product_counts['Count'] > 1]"
   ]
  },
  {
   "cell_type": "code",
   "execution_count": null,
   "id": "09f9131f-f08c-49e7-a56a-3a20865bd687",
   "metadata": {},
   "outputs": [],
   "source": [
    "import squarify \n",
    "plt.figure(figsize=(12,20))\n",
    "\n",
    "squarify.plot(sizes = segment_product_counts['Count'],\n",
    "              label = segment_product_counts.apply(lambda x: f\"{x['Value Segment']} - {x['RFM Customer Segments']}\", axis= 1),\n",
    "              color = pastel_colors, \n",
    "              alpha = 0.7)\n",
    "\n",
    "plt.title('RFM Customer Segments by Value')\n",
    "plt.axis('off')\n",
    "plt.show()"
   ]
  },
  {
   "cell_type": "code",
   "execution_count": null,
   "id": "262a50e2-73a5-49ac-8220-be6c404927c1",
   "metadata": {},
   "outputs": [],
   "source": [
    "champions_segment = rfm_gb[rfm_gb['RFM Customer Segments'] == 'Champions']\n",
    "\n",
    "plt.figure(figsize= (10,6))\n",
    "sns.boxplot(data = champions_segment[['RecencyScore', 'FrequencyScore', 'MonetaryScore']], palette= 'pastel')\n",
    "\n",
    "plt.title('Distribution of RFM Values within Champions Segment')\n",
    "plt.xlabel('RFM Attribute')\n",
    "plt.ylabel('RFM Value')\n",
    "\n",
    "plt.show()"
   ]
  },
  {
   "cell_type": "code",
   "execution_count": null,
   "id": "7a1fd106-304c-412b-8773-1f6eaf4ed1af",
   "metadata": {},
   "outputs": [],
   "source": [
    "correlation_matrix = champions_segment[['RecencyScore','FrequencyScore', 'MonetaryScore']].corr()\n",
    "\n",
    "sns.heatmap(data = correlation_matrix)\n",
    "plt.title('Correlation Matrix of RFM Values within Champions Segment')\n",
    "\n",
    "plt.show()"
   ]
  },
  {
   "cell_type": "code",
   "execution_count": null,
   "id": "59124471-078c-40e8-b2e3-223a773038f7",
   "metadata": {},
   "outputs": [],
   "source": [
    "segment_counts = rfm_gb['RFM Customer Segments'].value_counts()\n",
    "\n",
    "plt.figure(figsize=(10,6))\n",
    "sns.barplot(x = segment_counts.index, y=segment_counts.values, palette= 'pastel')\n",
    "\n",
    "champions_color = pastel_colors[9]\n",
    "colors = [champions_color if segment == 'Champions' else pastel_colors[i] for i, segment in enumerate(segment_counts.index)]\n",
    "ax = plt.gca()\n",
    "for i, bar in enumerate(ax.patches):\n",
    "    bar.set_color(colors[i])\n",
    "\n",
    "plt.title('Comparison of RFM Segments')\n",
    "plt.xlabel('RFM Segments')\n",
    "plt.ylabel('Number of Customers')\n",
    "\n",
    "ax.yaxis.grid(False)\n",
    "\n",
    "plt.show()"
   ]
  },
  {
   "cell_type": "code",
   "execution_count": null,
   "id": "e248c777-e097-4c4f-ad18-6683c347138b",
   "metadata": {},
   "outputs": [],
   "source": [
    "sns.heatmap(supermarket.isnull(),cbar=False)\n",
    "\n",
    "fig,(ax1,ax2)=plt.subplots(1,2)\n",
    "supermarket.boxplot(column=['Sale'],ax=ax1)\n",
    "supermarket.boxplot(column=['Qta'],ax=ax2)\n",
    "fig.subplots_adjust(wspace=0.5)\n",
    "plt.savefig('/boxplots_before.png')\n",
    "plt.show()"
   ]
  },
  {
   "cell_type": "code",
   "execution_count": null,
   "id": "05ebc12e-78e4-4290-a52e-c685a2f5c2e2",
   "metadata": {},
   "outputs": [],
   "source": [
    "comment_words = ''\n",
    "# iterate through the csv file\n",
    "for val in supermarket['ProdDescr']:\n",
    "     \n",
    "    # typecaste each val to string\n",
    "    val = str(val)\n",
    " \n",
    "    # split the value\n",
    "    tokens = val.split()\n",
    "     \n",
    "    # Converts each token into lowercase\n",
    "    for i in range(len(tokens)):\n",
    "        tokens[i] = tokens[i].lower()\n",
    "     \n",
    "    comment_words += \" \".join(tokens)+\" \"\n",
    " \n",
    "wordcloud = WordCloud(width = 800, height = 800,\n",
    "                background_color ='white',\n",
    "                #stopwords = stopwords,\n",
    "                min_font_size = 10).generate(comment_words)\n",
    " \n",
    "# plot the WordCloud image                       \n",
    "plt.figure(figsize = (8, 8), facecolor = None)\n",
    "plt.imshow(wordcloud)\n",
    "plt.axis(\"off\")\n",
    "plt.tight_layout(pad = 0)\n",
    " \n",
    "plt.show()\n"
   ]
  },
  {
   "cell_type": "code",
   "execution_count": null,
   "id": "13dbb31a-feba-4343-b228-658148c4b1dc",
   "metadata": {},
   "outputs": [],
   "source": [
    "print(supermarket.groupby(['CustomerID'])['Qta'].max())"
   ]
  },
  {
   "cell_type": "code",
   "execution_count": null,
   "id": "b31d1c5b-1087-44de-979e-c7aa90be4f4b",
   "metadata": {},
   "outputs": [],
   "source": [
    "supermarket.head(2)"
   ]
  },
  {
   "cell_type": "code",
   "execution_count": null,
   "id": "e3c40ad4-af49-4ac4-a4da-e5ada7c27304",
   "metadata": {},
   "outputs": [],
   "source": [
    "grp=supermarket.groupby(supermarket['BasketDate'].dt.to_period('Q'))['ProdID']\n",
    "for item in grp:\n",
    "    print(item)"
   ]
  },
  {
   "cell_type": "code",
   "execution_count": null,
   "id": "3be85a98-43d8-4262-85c5-10e5e4182837",
   "metadata": {},
   "outputs": [],
   "source": [
    "#Detect outliers in Pandas DataFrame\n",
    "cols = ['BasketID', 'BasketDate', 'Sale', 'CustomerID', 'CustomerCountry',\n",
    "       'ProdID', 'ProdDescr', 'Qta', 'source']\n",
    "plt.figure(figsize=(20, 5))\n",
    "sns.boxplot(data=supermarket[supermarket.columns], orient='h')\n",
    "#sns.boxplot(data=supermarket['CustomerID'], orient='h')"
   ]
  },
  {
   "cell_type": "code",
   "execution_count": null,
   "id": "5156c448-7555-468a-b0bd-83d30b333f7e",
   "metadata": {},
   "outputs": [],
   "source": [
    "#Explain Seaborn boxplot and outliers\n",
    "supermarket[['CustomerID', 'Qta']].head(18).describe()\n"
   ]
  },
  {
   "cell_type": "code",
   "execution_count": null,
   "id": "319f4bb9-49ee-49fb-9ed0-9db34b17f794",
   "metadata": {},
   "outputs": [],
   "source": [
    "supermarket.sample()"
   ]
  },
  {
   "cell_type": "code",
   "execution_count": null,
   "id": "73b8384b-6441-4cbb-8ce2-1ca7196a70fe",
   "metadata": {},
   "outputs": [],
   "source": [
    "sns.regplot(rfm_gb['R'],rfm_gb['F'],rfm_gb['M'])"
   ]
  }
 ],
 "metadata": {
  "kernelspec": {
   "display_name": "Python 3 (ipykernel)",
   "language": "python",
   "name": "python3"
  },
  "language_info": {
   "codemirror_mode": {
    "name": "ipython",
    "version": 3
   },
   "file_extension": ".py",
   "mimetype": "text/x-python",
   "name": "python",
   "nbconvert_exporter": "python",
   "pygments_lexer": "ipython3",
   "version": "3.10.10"
  }
 },
 "nbformat": 4,
 "nbformat_minor": 5
}
