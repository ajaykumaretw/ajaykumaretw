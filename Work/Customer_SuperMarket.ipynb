
import numpy as np 
import pandas as pd # data processing, CSV file I/O (e.g. pd.read_csv)
import seaborn as sns
import matplotlib.pyplot as plt
import os
supermarket=pd.read_csv('/content/drive/MyDrive/customer_supermarket.csv', error_bad_lines=False)
print(supermarket)