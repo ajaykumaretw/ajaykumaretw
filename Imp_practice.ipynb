{
  "nbformat": 4,
  "nbformat_minor": 0,
  "metadata": {
    "colab": {
      "provenance": [],
      "authorship_tag": "ABX9TyNvp8NB2ODc2aPdygIHciNX",
      "include_colab_link": true
    },
    "kernelspec": {
      "name": "python3",
      "display_name": "Python 3"
    },
    "language_info": {
      "name": "python"
    }
  },
  "cells": [
    {
      "cell_type": "markdown",
      "metadata": {
        "id": "view-in-github",
        "colab_type": "text"
      },
      "source": [
        "<a href=\"https://colab.research.google.com/github/ajaykumaretw/ajaykumaretw/blob/main/Imp_practice.ipynb\" target=\"_parent\"><img src=\"https://colab.research.google.com/assets/colab-badge.svg\" alt=\"Open In Colab\"/></a>"
      ]
    },
    {
      "cell_type": "markdown",
      "source": [
        "## Diffrence Between  Set And FrogenSet"
      ],
      "metadata": {
        "id": "xUtukTJa3Sdg"
      }
    },
    {
      "cell_type": "code",
      "execution_count": null,
      "metadata": {
        "colab": {
          "base_uri": "https://localhost:8080/"
        },
        "id": "GJGL9yaz19zB",
        "outputId": "88149439-db34-4280-b654-4a46872b4223"
      },
      "outputs": [
        {
          "output_type": "stream",
          "name": "stdout",
          "text": [
            "134275937039728\n",
            "134275937039728\n",
            "{2, 3, 'a', 'j', 'je', 'aa'}\n",
            "frozenset({'a', 1, 3})\n"
          ]
        }
      ],
      "source": [
        "a=\"10\"\n",
        "b=\"10\"\n",
        "print(id(a))\n",
        "print(id(b))\n",
        "d={1,2,'a',3}\n",
        "d.add('j')\n",
        "d.add('aa')\n",
        "d.add('je')\n",
        "d.add('je')\n",
        "d.add('je')\n",
        "d.add('je')\n",
        "d.remove(1)\n",
        "d.discard(1)\n",
        "#d.remove(1)\n",
        "print(d)\n",
        "#print(d[1])\n",
        "s=frozenset({1,'a',3,3})\n",
        "#s[0]\n",
        "type(s)\n",
        "print(s)"
      ]
    },
    {
      "cell_type": "markdown",
      "source": [
        "#Range- Python range (start, stop, step)\n",
        "\n",
        "\n",
        "> Indented block\n",
        "\n",
        "> Indented block\n",
        "\n",
        "\n",
        "\n"
      ],
      "metadata": {
        "id": "0HBZxhhMDlbS"
      }
    },
    {
      "cell_type": "code",
      "source": [
        "b=range(1,24,3)\n",
        "for i in b :\n",
        "  print (i)\n",
        "\n",
        "  def GetSameInterval(n,_list):\n",
        "    for i in range(0,len(_list),n):\n",
        "      return _list[i]\n",
        "\n",
        "  GetSameInterval(2,b)\n"
      ],
      "metadata": {
        "colab": {
          "base_uri": "https://localhost:8080/"
        },
        "id": "RMym22iXDqT2",
        "outputId": "1169f93f-f298-4eb0-aa1a-635604e1e08d"
      },
      "execution_count": 32,
      "outputs": [
        {
          "output_type": "stream",
          "name": "stdout",
          "text": [
            "1\n",
            "4\n",
            "7\n",
            "10\n",
            "13\n",
            "16\n",
            "19\n",
            "22\n"
          ]
        }
      ]
    }
  ]
}