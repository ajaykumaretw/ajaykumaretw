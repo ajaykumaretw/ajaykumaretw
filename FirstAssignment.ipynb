{
  "nbformat": 4,
  "nbformat_minor": 0,
  "metadata": {
    "colab": {
      "provenance": [],
      "authorship_tag": "ABX9TyPGD4eWqAjIdROdV37ubovQ",
      "include_colab_link": true
    },
    "kernelspec": {
      "name": "python3",
      "display_name": "Python 3"
    },
    "language_info": {
      "name": "python"
    }
  },
  "cells": [
    {
      "cell_type": "markdown",
      "metadata": {
        "id": "view-in-github",
        "colab_type": "text"
      },
      "source": [
        "<a href=\"https://colab.research.google.com/github/ajaykumaretw/ajaykumaretw/blob/main/FirstAssignment.ipynb\" target=\"_parent\"><img src=\"https://colab.research.google.com/assets/colab-badge.svg\" alt=\"Open In Colab\"/></a>"
      ]
    },
    {
      "cell_type": "markdown",
      "source": [
        "Problem 1 Solution:-"
      ],
      "metadata": {
        "id": "iwbIeyStFGTY"
      }
    },
    {
      "cell_type": "code",
      "source": [
        "wins = 4\n",
        "losses = 3\n",
        "draws = 1\n",
        "def Calculate_Score(wins,losses,draws):\n",
        "  return (wins*3+losses*0+draws*1)\n",
        "# 1(A) Calculate the total points gained by Team Aravali\n",
        "aravali_points = Calculate_Score(4,3,1)\n",
        "\n",
        "## 1(B) Print the variable aravali_points\n",
        "print(\"Aravali_points:\",aravali_points)\n"
      ],
      "metadata": {
        "colab": {
          "base_uri": "https://localhost:8080/"
        },
        "id": "11So4xdgFLNH",
        "outputId": "8fe841d2-29b1-4dc5-e3ec-afc607ecff86"
      },
      "execution_count": null,
      "outputs": [
        {
          "output_type": "stream",
          "name": "stdout",
          "text": [
            "Aravali_points: 13\n"
          ]
        }
      ]
    },
    {
      "cell_type": "markdown",
      "source": [
        " Problem 2 Solution:-"
      ],
      "metadata": {
        "id": "1GNEolwcIe6z"
      }
    },
    {
      "cell_type": "code",
      "source": [
        "\n",
        "def GetQuadraticValue(x):\n",
        " return int(pow(x,2)+3*x-4)\n",
        "\n",
        "# Calculate the value of the function f(x) at x = 2\n",
        "\n",
        "func_evaluated_at_2  = GetQuadraticValue(2)\n",
        "print(func_evaluated_at_2)\n",
        "\n",
        "# Calculate the value of the function f(x) at x = -1\n",
        "\n",
        "func_evaluated_at_minus1  = GetQuadraticValue(-1)\n",
        "print(func_evaluated_at_minus1)\n",
        "\n",
        "# Calculate the value of the function f(x) at x = 1\n",
        "\n",
        "func_evaluated_at_1 = GetQuadraticValue(1)\n",
        "print(func_evaluated_at_1)\n",
        "\n",
        "# Print the type of the variable below\n",
        "print(type(func_evaluated_at_1))\n",
        "\n",
        "#Return the boolean for each value of to find out whether that value is a root of\n",
        "import math as md\n",
        "def GetBoolTypeAccordingToRoot(number):\n",
        " try:\n",
        "  return bool(1 if md.sqrt(number)==number else 0)\n",
        " except:\n",
        "   print(\"An exception occurred\")\n",
        "\n",
        "print(GetBoolTypeAccordingToRoot(func_evaluated_at_2)) #False\n",
        "print(GetBoolTypeAccordingToRoot(func_evaluated_at_minus1)) #An exception occurred None (With Exception Handling)\n",
        "print(GetBoolTypeAccordingToRoot(func_evaluated_at_1)) # True\n",
        "\n",
        "\n",
        "\n"
      ],
      "metadata": {
        "id": "B3mFhHDtInQz",
        "colab": {
          "base_uri": "https://localhost:8080/"
        },
        "outputId": "eb1eb7db-120e-4145-f4f7-6b522b82a132"
      },
      "execution_count": 21,
      "outputs": [
        {
          "output_type": "stream",
          "name": "stdout",
          "text": [
            "6\n",
            "-6\n",
            "0\n",
            "<class 'int'>\n",
            "False\n",
            "An exception occurred\n",
            "None\n",
            "True\n"
          ]
        }
      ]
    },
    {
      "cell_type": "markdown",
      "source": [
        "Problem3 Solution:-"
      ],
      "metadata": {
        "id": "FAk4EsGUGkyT"
      }
    },
    {
      "cell_type": "code",
      "source": [
        "\n",
        "def CalculatePercentage(nmbr,total):\n",
        " return int((nmbr*100)/total)\n",
        "fruits={'Apples':45,'Oranges':65,'Bananas':30}\n",
        "\n",
        "for fruit in fruits:\n",
        "  print (\"The percentage of {fruit}\",CalculatePercentage(fruits[fruit],100),'%')\n"
      ],
      "metadata": {
        "colab": {
          "base_uri": "https://localhost:8080/"
        },
        "id": "vXO2dvn6amRf",
        "outputId": "d85e732c-78c3-48e9-9d44-ed3c77048d87"
      },
      "execution_count": 43,
      "outputs": [
        {
          "output_type": "stream",
          "name": "stdout",
          "text": [
            "The percentage of {fruit} 45 %\n",
            "The percentage of {fruit} 65 %\n",
            "The percentage of {fruit} 30 %\n"
          ]
        }
      ]
    },
    {
      "cell_type": "markdown",
      "source": [
        "Problem 4 Solution:-**bold text**"
      ],
      "metadata": {
        "id": "_S--mDIJeVb_"
      }
    },
    {
      "cell_type": "code",
      "source": [
        "def Calculate_Accuracy(Guess,Grup_People):\n",
        " return str(Guess/Grup_People)+'%'\n",
        "\n",
        "# Store the number of Maths majors\n",
        "Maths_Majors=30\n",
        "\n",
        "# Store the number of Economics majors\n",
        "Economics_Majors=45\n",
        "\n",
        "# Store the number of Physics majors\n",
        "Physics_Majors=25\n",
        "\n",
        "# Store the number of your correct guesses of Maths majors\n",
        "Math_Correct_Guess=20\n",
        "# Store the number of your correct guesses of Economics majors\n",
        "Economics_Correct_guess=30\n",
        "# Store the number of your correct guesses of Physics majors\n",
        "Physics_Correct_guess=20\n",
        "\n",
        "#Calculate your accuracy in each of the three rounds\n",
        "\n",
        "# Print the Maths accuracy\n",
        "print (\"Maths Accuracy:\",Calculate_Accuracy(Maths_Majors,)\n",
        "# Print the Economics accuracy\n",
        "\n",
        "# Print the Physics accuracy\n"
      ],
      "metadata": {
        "id": "MGKUZ-wSedFG"
      },
      "execution_count": null,
      "outputs": []
    },
    {
      "cell_type": "code",
      "source": [
        "def Calculate_Accuracy(Guess,Grup_People):\n",
        " return (Guess*100/Grup_People)\n",
        "\n",
        "# Store the number of Maths majors\n",
        "Maths_Majors=30\n",
        "\n",
        "# Store the number of Economics majors\n",
        "Economics_Majors=45\n",
        "\n",
        "# Store the number of Physics majors\n",
        "Physics_Majors=25\n",
        "\n",
        "# Store the number of your correct guesses of Maths majors\n",
        "Math_Correct_Guess=20\n",
        "# Store the number of your correct guesses of Economics majors\n",
        "Economics_Correct_guess=30\n",
        "# Store the number of your correct guesses of Physics majors\n",
        "Physics_Correct_guess=20\n",
        "\n",
        "#Calculate your accuracy in each of the three rounds\n",
        "\n",
        "# Print the Maths accuracy\n",
        "print (\"Maths Accuracy:\",Calculate_Accuracy(Math_Correct_Guess,Maths_Majors))\n",
        "# Print the Economics accuracy\n",
        "print (\"Economics Accuracy:\",Calculate_Accuracy(Economics_Correct_guess,Economics_Majors))\n",
        "# Print the Physics accuracy\n",
        "print (\"Physics Accuracy:\",Calculate_Accuracy(Physics_Correct_guess,Physics_Majors))\n",
        "\n",
        "\n",
        "\n",
        "#Calculate your overall accuracy in the entire game:\n",
        "TotalCorrectGuess=int (Math_Correct_Guess+Economics_Correct_guess+Physics_Correct_guess)\n",
        "TotalMajors=int(Maths_Majors+Economics_Majors+Physics_Majors)\n",
        "print(\"Overall accuracy in the Entire Game:\",Calculate_Accuracy(TotalCorrectGuess,TotalMajors))\n",
        "\n"
      ],
      "metadata": {
        "colab": {
          "base_uri": "https://localhost:8080/"
        },
        "id": "z5qwI8PWi0nX",
        "outputId": "da2a0f16-1856-45e2-d5a0-cc51473f6d31"
      },
      "execution_count": 54,
      "outputs": [
        {
          "output_type": "stream",
          "name": "stdout",
          "text": [
            "Maths Accuracy: 66.66666666666667\n",
            "Economics Accuracy: 66.66666666666667\n",
            "Physics Accuracy: 80.0\n",
            "Overall accuracy in the Entire Game: 70.0\n"
          ]
        }
      ]
    },
    {
      "cell_type": "markdown",
      "source": [],
      "metadata": {
        "id": "UqFXUCVpjhH5"
      }
    },
    {
      "cell_type": "code",
      "source": [],
      "metadata": {
        "id": "HSswhvDfjqI7"
      },
      "execution_count": null,
      "outputs": []
    }
  ]
}