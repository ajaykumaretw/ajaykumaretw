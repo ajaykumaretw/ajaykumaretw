{
 "cells": [
  {
   "cell_type": "code",
   "execution_count": 16,
   "metadata": {},
   "outputs": [
    {
     "name": "stdout",
     "output_type": "stream",
     "text": [
      "Failed to connect to Elasticsearch\n"
     ]
    }
   ],
   "source": [
    "from elasticsearch import Elasticsearch\n",
    "# Create an instance of the Elasticsearch client with the correct scheme\n",
    "# Create an instance of the Elasticsearch client with HTTPS and authentication\n",
    "# Create an instance of the Elasticsearch client with API key authentication\n",
    "es = Elasticsearch(\n",
    "    [{'host': 'localhost', 'port': 9200, 'scheme': 'http'}],\n",
    "    api_key='bm1kNWVaQUI0cHBrRXo1SmdiNHI6aS0wYkZPaHZRVUNQY2E2SjllZ1lKZw=='\n",
    ")\n",
    "\n",
    "try:\n",
    "    # Check if the client is connected\n",
    "    if es.ping():\n",
    "        print(\"Connected to Elasticsearch\")\n",
    "    else:\n",
    "        print(\"Failed to connect to Elasticsearch\")\n",
    "except Exception as e:\n",
    "    print(f\"An error occurred: {e}\")"
   ]
  },
  {
   "cell_type": "code",
   "execution_count": 10,
   "metadata": {},
   "outputs": [],
   "source": [
    "# Index a document\n",
    "doc = {\n",
    "    'author': 'John Doe',\n",
    "    'text': 'Elasticsearch: cool. bonsai cool.',\n",
    "    'timestamp': '2024-07-03T14:12:12'\n",
    "}"
   ]
  }
 ],
 "metadata": {
  "kernelspec": {
   "display_name": "Python 3",
   "language": "python",
   "name": "python3"
  },
  "language_info": {
   "codemirror_mode": {
    "name": "ipython",
    "version": 3
   },
   "file_extension": ".py",
   "mimetype": "text/x-python",
   "name": "python",
   "nbconvert_exporter": "python",
   "pygments_lexer": "ipython3",
   "version": "3.12.4"
  }
 },
 "nbformat": 4,
 "nbformat_minor": 2
}
