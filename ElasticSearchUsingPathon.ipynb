{
 "cells": [
  {
   "cell_type": "code",
   "execution_count": 82,
   "metadata": {},
   "outputs": [
    {
     "data": {
      "text/plain": [
       "True"
      ]
     },
     "execution_count": 82,
     "metadata": {},
     "output_type": "execute_result"
    }
   ],
   "source": [
    "import os\n",
    "from dotenv import load_dotenv\n",
    "import plotly.graph_objects as go\n",
    "import plotly.express as px\n",
    "load_dotenv()"
   ]
  },
  {
   "cell_type": "code",
   "execution_count": 83,
   "metadata": {},
   "outputs": [],
   "source": [
    "openai_api_key = os.getenv('Elastic_Search_Api_Key')"
   ]
  },
  {
   "cell_type": "code",
   "execution_count": 84,
   "metadata": {},
   "outputs": [
    {
     "name": "stdout",
     "output_type": "stream",
     "text": [
      "Connected to Elasticsearch\n"
     ]
    }
   ],
   "source": [
    "from elasticsearch import Elasticsearch\n",
    "\n",
    "# Replace with your actual Elasticsearch endpoint and API key\n",
    "es = Elasticsearch(\n",
    "    [\"https://16d3732ceba1468daf0053edc7541101.us-central1.gcp.cloud.es.io:443\"],\n",
    "    api_key=openai_api_key\n",
    ")\n",
    "\n",
    "# Verify the connection\n",
    "if es.ping():\n",
    "    print(\"Connected to Elasticsearch\")\n",
    "else:\n",
    "    print(\"Could not connect to Elasticsearch\")\n"
   ]
  },
  {
   "cell_type": "code",
   "execution_count": 85,
   "metadata": {},
   "outputs": [
    {
     "data": {
      "text/plain": [
       "ObjectApiResponse({'name': 'instance-0000000001', 'cluster_name': '16d3732ceba1468daf0053edc7541101', 'cluster_uuid': '3XMPhNFxRdKALnggqhq_tw', 'version': {'number': '8.14.1', 'build_flavor': 'default', 'build_type': 'docker', 'build_hash': '93a57a1a76f556d8aee6a90d1a95b06187501310', 'build_date': '2024-06-10T23:35:17.114581191Z', 'build_snapshot': False, 'lucene_version': '9.10.0', 'minimum_wire_compatibility_version': '7.17.0', 'minimum_index_compatibility_version': '7.0.0'}, 'tagline': 'You Know, for Search'})"
      ]
     },
     "execution_count": 85,
     "metadata": {},
     "output_type": "execute_result"
    }
   ],
   "source": [
    "# API key should have cluster monitor rights\n",
    "es.info()"
   ]
  },
  {
   "cell_type": "code",
   "execution_count": 86,
   "metadata": {},
   "outputs": [
    {
     "name": "stdout",
     "output_type": "stream",
     "text": [
      "List of indices:\n",
      ".ent-search-actastic-workplace_search_accounts_v16\n",
      ".ent-search-actastic-workplace_search_search_groups_v4-name-unique-constraint\n",
      ".kibana_8.14.1_001\n",
      ".ent-search-actastic-crawler2_robots_txts\n",
      ".ent-search-actastic-workplace_search_pre_content_sources_v3\n",
      ".ent-search-actastic-crawler_crawl_requests_v7\n",
      ".ent-search-esqueues-me_queue_v1_process_crawl2\n",
      "movies\n",
      ".kibana_task_manager_8.14.1_001\n",
      ".ent-search-actastic-reindex_jobs_v3\n",
      ".ent-search-actastic-workplace_search_role_mappings_v8\n",
      ".ent-search-actastic-search_relevance_suggestion_update_process_v1\n",
      ".apm-custom-link\n",
      ".ent-search-actastic-connectors_jobs_v5\n",
      ".slo-observability.summary-v3.2.temp\n",
      ".ent-search-actastic-workplace_search_content_sources_v23\n",
      ".internal.alerts-observability.uptime.alerts-default-000001\n",
      ".ent-search-actastic-users_v7-auth_source-elasticsearch_username-unique-constraint\n",
      ".ent-search-actastic-crawler_process_crawls\n",
      ".apm-source-map\n",
      ".ent-search-actastic-users_v7-email-unique-constraint\n",
      ".ent-search-actastic-crawler2_configurations_v2-index_name-unique-constraint\n",
      ".ent-search-actastic-app_search_api_tokens_v3-authentication_token-unique-constraint\n",
      ".ent-search-actastic-workplace_search_organizations_v17\n",
      ".ent-search-actastic-search_indices_v1\n",
      ".ent-search-actastic-app_search_crawler_content_url_metadata\n",
      ".elastic-connectors-sync-jobs-v1\n",
      ".ent-search-esqueues-me_queue_v1_process_crawl\n",
      ".ent-search-actastic-crawler2_content_metadata-configuration_oid-content_hash-unique-constraint\n",
      ".ent-search-esqueues-me_worker_v1\n",
      ".ent-search-actastic-engines_v26\n",
      ".fleet-policies-7\n",
      ".internal.alerts-transform.health.alerts-default-000001\n",
      ".ent-search-actastic-app_search_api_token_engines\n",
      ".internal.alerts-observability.apm.alerts-default-000001\n",
      ".fleet-servers-7\n",
      ".ent-search-actastic-crawler2_domains-configuration_oid-name-unique-constraint\n",
      ".ent-search-actastic-crawler2_configurations_v2\n",
      ".ent-search-actastic-crawler2_content_metadata\n",
      ".ent-search-esqueues-me_queue_v1_mailer\n",
      ".elastic-connectors-v1\n",
      ".security-tokens-7\n",
      ".ent-search-esqueues-me_queue_v1_failed\n",
      ".internal.alerts-security.alerts-default-000001\n",
      ".ent-search-actastic-workplace_search_pre_content_sources_v3-context-workplace_search_account_id-service_type-unique-constraint\n",
      "index_name\n",
      ".ent-search-actastic-secret_keeper_secrets\n",
      ".ent-search-actastic-crawler_domains_v6\n",
      ".internal.alerts-observability.logs.alerts-default-000001\n",
      ".ent-search-actastic-oauth_access_tokens_v2-token-unique-constraint\n",
      ".ent-search-actastic-crawler2_process_crawls\n",
      "netflix_movies\n",
      ".ent-search-actastic-crawler2_content_url_metadata\n",
      ".kibana_analytics_8.14.1_001\n",
      ".ent-search-actastic-app_search_role_mapping_engines_v4\n",
      ".security-7\n",
      ".ent-search-actastic-oauth_applications_v2\n",
      ".ent-search-actastic-oauth_applications_v2-uid-unique-constraint\n",
      ".ent-search-actastic-search_relevance_suggestions-document_position_id-unique-constraint\n",
      ".kibana-observability-ai-assistant-kb-000001\n",
      ".async-search\n",
      ".ent-search-esqueues-me_queue_v1_engine_destroyer\n",
      ".ent-search-actastic-app_search_crawler_content_metadata-content_hash-engine_oid-unique-constraint\n",
      ".ent-search-actastic-app_search_document_positions_v3\n",
      ".ent-search-db-lock-20200304\n",
      ".ent-search-actastic-oauth_access_grants_v2\n",
      ".slo-observability.sli-v3.2\n",
      ".kibana_ingest_8.14.1_001\n",
      ".internal.alerts-ml.anomaly-detection.alerts-default-000001\n",
      ".ent-search-actastic-synonyms\n",
      ".internal.alerts-observability.slo.alerts-default-000001\n",
      ".kibana_security_session_1\n",
      ".ent-search-actastic-crawler_domains_v6-engine_oid-name-unique-constraint\n",
      ".ent-search-actastic-workplace_search_content_source_user_identities_v4\n",
      ".internal.alerts-observability.metrics.alerts-default-000001\n",
      ".ent-search-actastic-workplace_search_api_tokens\n",
      ".security-profile-8\n",
      ".ent-search-actastic-telemetry_status_v3\n",
      ".internal.alerts-stack.alerts-default-000001\n",
      ".ent-search-actastic-togo_migrations_v1\n",
      ".fleet-enrollment-api-keys-7\n",
      ".apm-agent-configuration\n",
      ".kibana_alerting_cases_8.14.1_001\n",
      ".ent-search-actastic-app_search_crawler_content_metadata\n",
      ".kibana-observability-ai-assistant-conversations-000001\n",
      ".ent-search-actastic-crawler2_domains\n",
      ".ent-search-actastic-search_relevance_suggestions\n",
      ".internal.alerts-observability.threshold.alerts-default-000001\n",
      ".ent-search-actastic-users_v7\n",
      ".ent-search-actastic-workplace_search_search_groups_v4\n",
      ".ent-search-actastic-app_search_invitations_v3\n",
      ".ent-search-actastic-engines_v26-loco_moco_account_id-slug-unique-constraint\n",
      ".fleet-agents-7\n",
      ".internal.alerts-default.alerts-default-000001\n",
      ".fleet-policies-leader-7\n",
      ".internal.alerts-ml.anomaly-detection-health.alerts-default-000001\n",
      ".ent-search-actastic-crawler2_crawl_requests_v2\n",
      ".ent-search-actastic-app_search_document_position_queries_v4\n",
      ".ent-search-actastic-oauth_access_tokens_v2-refresh_token-unique-constraint\n",
      ".ent-search-actastic-crawler2_extraction_rules\n",
      ".slo-observability.summary-v3.2\n",
      ".ent-search-actastic-app_search_api_tokens_v3\n",
      ".ent-search-actastic-workplace_search_invitations_v3\n",
      ".ent-search-actastic-workplace_search_accounts_v16-user_oid-unique-constraint\n",
      ".ent-search-actastic-crawler_robots_txts_v3\n",
      ".kibana_security_solution_8.14.1_001\n",
      ".ent-search-actastic-app_search_accounts_v11\n",
      ".ent-search-actastic-app_search_role_mappings_v5\n",
      ".ent-search-actastic-oauth_access_tokens_v2\n"
     ]
    },
    {
     "name": "stderr",
     "output_type": "stream",
     "text": [
      "C:\\Users\\hp\\AppData\\Local\\Temp\\ipykernel_256\\1384837678.py:2: ElasticsearchWarning: this request accesses system indices: [.kibana_8.14.1_001, .kibana_task_manager_8.14.1_001, .apm-custom-link, .fleet-policies-7, .fleet-servers-7, .security-tokens-7, .kibana_analytics_8.14.1_001, .security-7, .async-search, .kibana_ingest_8.14.1_001, .kibana_security_session_1, .security-profile-8, .fleet-enrollment-api-keys-7, .apm-agent-configuration, .kibana_alerting_cases_8.14.1_001, .fleet-agents-7, .fleet-policies-leader-7, .kibana_security_solution_8.14.1_001], but in a future major version, direct access to system indices will be prevented by default\n",
      "  indices = es.indices.get_alias()\n"
     ]
    }
   ],
   "source": [
    "# Get all indices\n",
    "indices = es.indices.get_alias()\n",
    "\n",
    "# Print all indices\n",
    "print(\"List of indices:\")\n",
    "for index_name in indices:\n",
    "    print(index_name)"
   ]
  },
  {
   "cell_type": "code",
   "execution_count": 87,
   "metadata": {},
   "outputs": [
    {
     "data": {
      "text/plain": [
       "ObjectApiResponse({'errors': False, 'took': 3, 'items': [{'index': {'_index': 'index_name', '_id': '9780553351927', '_version': 10, 'result': 'updated', '_shards': {'total': 2, 'successful': 2, 'failed': 0}, '_seq_no': 54, '_primary_term': 1, 'status': 200}}, {'index': {'_index': 'index_name', '_id': '9780441017225', '_version': 10, 'result': 'updated', '_shards': {'total': 2, 'successful': 2, 'failed': 0}, '_seq_no': 55, '_primary_term': 1, 'status': 200}}, {'index': {'_index': 'index_name', '_id': '9780451524935', '_version': 10, 'result': 'updated', '_shards': {'total': 2, 'successful': 2, 'failed': 0}, '_seq_no': 56, '_primary_term': 1, 'status': 200}}, {'index': {'_index': 'index_name', '_id': '9781451673319', '_version': 10, 'result': 'updated', '_shards': {'total': 2, 'successful': 2, 'failed': 0}, '_seq_no': 57, '_primary_term': 1, 'status': 200}}, {'index': {'_index': 'index_name', '_id': '9780060850524', '_version': 10, 'result': 'updated', '_shards': {'total': 2, 'successful': 2, 'failed': 0}, '_seq_no': 58, '_primary_term': 1, 'status': 200}}, {'index': {'_index': 'index_name', '_id': '9780385490818', '_version': 10, 'result': 'updated', '_shards': {'total': 2, 'successful': 2, 'failed': 0}, '_seq_no': 59, '_primary_term': 1, 'status': 200}}]})"
      ]
     },
     "execution_count": 87,
     "metadata": {},
     "output_type": "execute_result"
    }
   ],
   "source": [
    "documents = [\n",
    "  { \"index\": { \"_index\": \"index_name\", \"_id\": \"9780553351927\"}},\n",
    "  {\"name\": \"Snow Crash\", \"author\": \"Neal Stephenson\", \"release_date\": \"1992-06-01\", \"page_count\": 470},\n",
    "  { \"index\": { \"_index\": \"index_name\", \"_id\": \"9780441017225\"}},\n",
    "  {\"name\": \"Revelation Space\", \"author\": \"Alastair Reynolds\", \"release_date\": \"2000-03-15\", \"page_count\": 585},\n",
    "  { \"index\": { \"_index\": \"index_name\", \"_id\": \"9780451524935\"}},\n",
    "  {\"name\": \"1984\", \"author\": \"George Orwell\", \"release_date\": \"1985-06-01\", \"page_count\": 328},\n",
    "  { \"index\": { \"_index\": \"index_name\", \"_id\": \"9781451673319\"}},\n",
    "  {\"name\": \"Fahrenheit 451\", \"author\": \"Ray Bradbury\", \"release_date\": \"1953-10-15\", \"page_count\": 227},\n",
    "  { \"index\": { \"_index\": \"index_name\", \"_id\": \"9780060850524\"}},\n",
    "  {\"name\": \"Brave New World\", \"author\": \"Aldous Huxley\", \"release_date\": \"1932-06-01\", \"page_count\": 268},\n",
    "  { \"index\": { \"_index\": \"index_name\", \"_id\": \"9780385490818\"}},\n",
    "  {\"name\": \"The Handmaid's Tale\", \"author\": \"Margaret Atwood\", \"release_date\": \"1985-06-01\", \"page_count\": 311},\n",
    "]\n",
    "\n",
    "es.bulk(operations=documents)"
   ]
  },
  {
   "cell_type": "code",
   "execution_count": 88,
   "metadata": {},
   "outputs": [
    {
     "data": {
      "text/plain": [
       "ObjectApiResponse({'took': 3, 'timed_out': False, '_shards': {'total': 1, 'successful': 1, 'skipped': 0, 'failed': 0}, 'hits': {'total': {'value': 1, 'relation': 'eq'}, 'max_score': 1.5904956, 'hits': [{'_index': 'index_name', '_id': '9780553351927', '_score': 1.5904956, '_source': {'name': 'Snow Crash', 'author': 'Neal Stephenson', 'release_date': '1992-06-01', 'page_count': 470}}]}})"
      ]
     },
     "execution_count": 88,
     "metadata": {},
     "output_type": "execute_result"
    }
   ],
   "source": [
    "es.search(index=\"index_name\", q=\"snow\")"
   ]
  },
  {
   "cell_type": "code",
   "execution_count": 89,
   "metadata": {},
   "outputs": [
    {
     "data": {
      "text/plain": [
       "ObjectApiResponse({'took': 3, 'timed_out': False, '_shards': {'total': 1, 'successful': 1, 'skipped': 0, 'failed': 0}, 'hits': {'total': {'value': 390, 'relation': 'eq'}, 'max_score': 12.142081, 'hits': [{'_index': 'movies', '_id': 'r2ZJeZAB4ppkEz5JVcd3', '_score': 12.142081, '_source': {'date': '2016-01-26', 'short_description': 'Snow? What snow?', '@timestamp': '2016-01-26T00:00:00.000+05:30', 'link': 'https://www.huffingtonpost.com/entry/chrissy-teigen-outfit-winter-formal_us_56a76d11e4b01a3ed123c465', 'category': 'STYLE', 'headline': 'Chrissy Teigen Feels No Cold, Wears A Revealing Dress In The Dead Of Winter', 'authors': 'Jamie Feldman'}}, {'_index': 'movies', '_id': '1WdLeZAB4ppkEz5JfHSq', '_score': 11.505241, '_source': {'date': '2013-02-11', 'short_description': 'My kids have been going WILD for Strawberry snow ice cream this year. I think I made it once last year and apparently they remembered!', '@timestamp': '2013-02-11T00:00:00.000+05:30', 'link': 'https://www.huffingtonpost.com/entry/snow-recipes-strawberry-s_us_5b9ccda6e4b03a1dcc8201bb', 'category': 'FOOD & DRINK', 'headline': 'Snow Recipes: Strawberry Snow Ice Cream & Snow Icee', 'authors': 'Kathy Carter Woods, Contributor\\nCrafter, Creater, Wife, Mother, Blogger'}}, {'_index': 'movies', '_id': 'p2ZHeZAB4ppkEz5Jfk6b', '_score': 10.922843, '_source': {'date': '2017-12-07', 'short_description': 'Snow angels are not frozen hobos, snow angels are not frozen hobos, snow angels are not frozen hobos...', '@timestamp': '2017-12-07T00:00:00.000+05:30', 'link': 'https://www.huffingtonpost.com/entry/the-simpsons-new-christmas-couch-gag-is-certain-to-sleigh-you_us_5a295a35e4b0fa79861293e7', 'category': 'COMEDY', 'headline': \"'The Simpsons' New Christmas Couch Gag Is Certain To Sleigh You\", 'authors': 'Andy McDonald'}}, {'_index': 'movies', '_id': 'xWdKeZAB4ppkEz5JLTSR', '_score': 10.598909, '_source': {'date': '2014-01-31', 'short_description': '1. The lightest green says \"any snow\" but also includes merely the prediction of snow. Also, this is snow accumulation over', '@timestamp': '2014-01-31T00:00:00.000+05:30', 'link': 'https://www.huffingtonpost.com/entry/amount-of-snow-cancel-school-us-map_us_5b9dd42ce4b03a1dcc8d73f7', 'category': 'PARENTING', 'headline': 'This Is The Amount Of Snow It Typically Takes to Cancel Schools Around The U.S. (MAP)', 'authors': ''}}, {'_index': 'movies', '_id': 'McZJeZAB60v8f4HZtEc3', '_score': 10.435016, '_source': {'date': '2015-02-26', 'short_description': 'When I speak with friends and note their despair about the state of the planet, I remind them that we are not inherently evil doers as some would conclude during these very dark times when heads are literally rolling; the results of a distortion of faith.', '@timestamp': '2015-02-26T00:00:00.000+05:30', 'link': 'https://www.huffingtonpost.com/entry/snow-angel-marthas-vineyard_b_6743986.html', 'category': 'IMPACT', 'headline': 'Snow Angel', 'authors': \"Jack Schimmelman, ContributorWriter. Executive producer and director of new Martha's Vineya...\"}}, {'_index': 'movies', '_id': 'GmdKeZAB4ppkEz5Jg0Hc', '_score': 10.435016, '_source': {'date': '2013-11-14', 'short_description': \"Pilgrims, pumpkins and holly jolly. For that brief moment, the first snow stopped meaning wet shoes, messy floors and runny noses and instead I allowed myself to see it through my children's eyes. To the kids the first snow meant surprise, smiles, imagination and bright-eyed wonder.\", '@timestamp': '2013-11-14T00:00:00.000+05:30', 'link': 'https://www.huffingtonpost.com/entry/first-snow_us_5b9da854e4b03a1dcc8aef57', 'category': 'PARENTING', 'headline': 'First Snow', 'authors': 'Carissa K, Contributor\\nMother and writer, CarissaK.com'}}, {'_index': 'movies', '_id': '-sVHeZAB60v8f4HZX6KW', '_score': 10.045372, '_source': {'date': '2018-01-05', 'short_description': 'So. Many. Snow. Days.', '@timestamp': '2018-01-05T00:00:00.000+05:30', 'link': 'https://www.huffingtonpost.com/entry/funniest-parenting-tweets_us_5a4f828ce4b003133ec745ad', 'category': 'PARENTS', 'headline': 'The Funniest Tweets From Parents This Week', 'authors': 'Hollis Miller'}}, {'_index': 'movies', '_id': 'J2ZJeZAB4ppkEz5JVcN2', '_score': 10.045372, '_source': {'date': '2016-02-08', 'short_description': 'More snow, less corn.', '@timestamp': '2016-02-08T00:00:00.000+05:30', 'link': 'https://www.huffingtonpost.com/entry/12-things-to-watch-in-the-new-hampshire-primary_us_56b50449e4b01d80b2464043', 'category': 'POLITICS', 'headline': '12 Things To Watch In The New Hampshire Primary', 'authors': 'Howard Fineman, Jason Linkins, and Lauren Weber'}}, {'_index': 'movies', '_id': 'z8ZJeZAB60v8f4HZXhjS', '_score': 10.045372, '_source': {'date': '2015-12-23', 'short_description': 'A Swifty snow day!', '@timestamp': '2015-12-23T00:00:00.000+05:30', 'link': 'https://www.huffingtonpost.com/entry/taylor-swift-calvin-harris-snowman_us_567af58ee4b014efe0d7dc2e', 'category': 'ENTERTAINMENT', 'headline': \"Taylor Swift And Calvin Harris Build A Snowman To Remind You They're Perfect\", 'authors': 'Carly Ledbetter'}}, {'_index': 'movies', '_id': 'DMZKeZAB60v8f4HZIJIJ', '_score': 9.821875, '_source': {'date': '2014-03-05', 'short_description': 'In the great green room There was a telephone That came with the news, that school was closed Again. Read more on Slate', '@timestamp': '2014-03-05T00:00:00.000+05:30', 'link': 'https://www.huffingtonpost.comhttp://www.slate.com/articles/life/low_concept/2014/03/goodnight_snow_days_it_is_time_for_all_good_children_to_go_back_to_school.html', 'category': 'PARENTING', 'headline': 'Goodnight Snow Days', 'authors': ''}}]}})"
      ]
     },
     "execution_count": 89,
     "metadata": {},
     "output_type": "execute_result"
    }
   ],
   "source": [
    "\n",
    "es.search(index=\"movies\", q=\"snow\")"
   ]
  },
  {
   "cell_type": "code",
   "execution_count": 90,
   "metadata": {},
   "outputs": [
    {
     "data": {
      "text/plain": [
       "ObjectApiResponse({'took': 13, 'timed_out': False, '_shards': {'total': 1, 'successful': 1, 'skipped': 0, 'failed': 0}, 'hits': {'total': {'value': 6860, 'relation': 'eq'}, 'max_score': 13.547316, 'hits': [{'_index': 'movies', '_id': 'zmZHeZAB4ppkEz5Jk1er', '_score': 13.547316, '_source': {'date': '2017-11-02', 'short_description': 'Public health experts broadly welcomed the proposed measures.', '@timestamp': '2017-11-02T00:00:00.000+05:30', 'link': 'https://www.huffingtonpost.com/entry/trump-panel-urges-more-treatment-options-to-fight-opioid-crisis_us_59fb6d1fe4b0415a420a84e2', 'category': 'HEALTHY LIVING', 'headline': 'Trump Panel Urges More Treatment Options To Fight Opioid Crisis', 'authors': 'Toni Clarke, Reuters'}}, {'_index': 'movies', '_id': 'XWZJeZAB4ppkEz5JI5CT', '_score': 13.244211, '_source': {'date': '2016-08-04', 'short_description': 'Health experts hope the program will improve the overall health of women and children.', '@timestamp': '2016-08-04T00:00:00.000+05:30', 'link': 'https://www.huffingtonpost.com/entry/kenyan-midwives-incentivized-to-refer-risky-deliveries-to-hospital_us_57a35b90e4b0104052a180ff', 'category': 'IMPACT', 'headline': 'The Innovative Way Kenya Is Helping Prevent Moms Dying During Childbirth', 'authors': 'Anthony Langat, Reuters'}}, {'_index': 'movies', '_id': '6cVHeZAB60v8f4HZ7LlX', '_score': 13.213451, '_source': {'date': '2017-07-14', 'short_description': 'These experts all fight tirelessly against mental health obstacles.', '@timestamp': '2017-07-14T00:00:00.000+05:30', 'link': 'https://www.huffingtonpost.com/entry/pride-in-mental-health-an-interview-with-lgbt-activists_us_5968c54ee4b06a2c8edb45d5', 'category': 'IMPACT', 'headline': 'Pride In Mental Health: An Interview With LGBT Activists, Cole Ledford And Dior Vargas', 'authors': 'Mark O\\'Connell, LCSW, ContributorNYC-based psychotherapist in private practice and author of \"M...'}}, {'_index': 'movies', '_id': 'Q8ZKeZAB60v8f4HZBoDD', '_score': 13.042007, '_source': {'date': '2014-05-22', 'short_description': '', '@timestamp': '2014-05-22T00:00:00.000+05:30', 'link': 'https://www.huffingtonpost.com/entry/pesticides-food-harvard-panel_n_5372952.html', 'category': 'GREEN', 'headline': 'WATCH: Experts Talk Pesticides And Health', 'authors': 'James Gerken'}}, {'_index': 'movies', '_id': 'BMVHeZAB60v8f4HZO34m', '_score': 12.303799, '_source': {'date': '2020-03-28', 'short_description': \"It's part of Trump's coronavirus outreach to apparently everyone but health experts.\", '@timestamp': '2020-03-28T00:00:00.000+05:30', 'link': 'https://www.huffpost.com/entry/alex-rodriguez-jennifer-lopez-trump-coronavirus_n_5e7eb9e0c5b6256a7a2b0181', 'category': 'POLITICS', 'headline': 'Batter Up! Trump Reportedly Consulted With Ex-Yankees Star Alex Rodriguez About COVID-19', 'authors': 'Mary Papenfuss'}}, {'_index': 'movies', '_id': 'OmZHeZAB4ppkEz5Jk1qs', '_score': 12.303799, '_source': {'date': '2017-10-25', 'short_description': 'On World Polio Day, health experts celebrated the \"endgame\" of polio eradication.', '@timestamp': '2017-10-25T00:00:00.000+05:30', 'link': 'https://www.huffingtonpost.com/entry/polio-eradication-2017-gates-foundation_us_59f006cae4b0bf1f8836b550', 'category': 'HEALTHY LIVING', 'headline': \"Polio Could Be Stopped Worldwide By Year's End, Says Gates Foundation\", 'authors': 'Dominique Mosbergen'}}, {'_index': 'movies', '_id': 'c2ZJeZAB4ppkEz5JI5eU', '_score': 11.857389, '_source': {'date': '2016-07-14', 'short_description': 'The new game gets people off the couch and into the streets.', '@timestamp': '2016-07-14T00:00:00.000+05:30', 'link': 'https://www.huffingtonpost.com/entry/pok%C3%A9mon-go-catches-high-praise-from-health-experts_us_5787a553e4b08608d3332a79', 'category': 'HEALTHY LIVING', 'headline': \"'Pokémon Go' Catches High Praise From Health Experts\", 'authors': 'Rachael Rettner, Live Science'}}, {'_index': 'movies', '_id': 'c2ZJeZAB4ppkEz5JQbjN', '_score': 11.857389, '_source': {'date': '2016-04-08', 'short_description': 'WASHINGTON — Donald J. Trump calls for “a full repeal of Obamacare” but says that “everybody’s got to be covered.” Initially', '@timestamp': '2016-04-08T00:00:00.000+05:30', 'link': 'https://www.huffingtonpost.comhttp://www.nytimes.com/2016/04/09/us/politics/donald-trump-health-care.html?hp&action=click&pgtype=Homepage&clickSource=story-heading&module=first-column-region&region=top-news&WT.nav=top-news', 'category': 'POLITICS', 'headline': 'Donald Trump’s Health Care Ideas Bewilder Republican Experts', 'authors': ''}}, {'_index': 'movies', '_id': 'ncZJeZAB60v8f4HZ2nDF', '_score': 11.857389, '_source': {'date': '2014-10-01', 'short_description': '', '@timestamp': '2014-10-01T00:00:00.000+05:30', 'link': 'https://www.huffingtonpost.com/entry/ebola-exposure-dallas_n_5913450.html', 'category': 'HEALTHY LIVING', 'headline': 'Health Experts In Dallas Review Potential Ebola Exposure', 'authors': ''}}, {'_index': 'movies', '_id': 'M8ZKeZAB60v8f4HZdKOC', '_score': 11.857389, '_source': {'date': '2013-12-16', 'short_description': 'However, the editorial authors noted that vitamin D supplementation, particularly for people who are deficient in the vitamin', '@timestamp': '2013-12-16T00:00:00.000+05:30', 'link': 'https://www.huffingtonpost.com/entry/multivitamins-no-health-benefit_us_5b9db8cce4b03a1dcc8c0386', 'category': 'WELLNESS', 'headline': \"Multivitamins Don't Hold Any Health Benefit, Experts Say\", 'authors': ''}}]}})"
      ]
     },
     "execution_count": 90,
     "metadata": {},
     "output_type": "execute_result"
    }
   ],
   "source": [
    "es.search(index=\"movies\", q=\"health experts\")"
   ]
  },
  {
   "cell_type": "code",
   "execution_count": 91,
   "metadata": {},
   "outputs": [
    {
     "data": {
      "text/plain": [
       "ObjectApiResponse({'took': 5, 'timed_out': False, '_shards': {'total': 1, 'successful': 1, 'skipped': 0, 'failed': 0}, 'hits': {'total': {'value': 5988, 'relation': 'eq'}, 'max_score': 7.7616596, 'hits': [{'_index': 'movies', '_id': 'QWdLeZAB4ppkEz5J_KMc', '_score': 7.7616596, '_source': {'date': '2012-06-05', 'short_description': 'By Amanda Gardner Medication can help depression. But a type of therapy called cognitive behavioral therapy (CBT)—which focuses', '@timestamp': '2012-06-05T00:00:00.000+05:30', 'link': 'https://www.huffingtonpost.com/entry/12-tricks-to-fight-depression_us_5b9bca80e4b03a1dcc7a4971', 'category': 'WELLNESS', 'headline': 'Depressed? 12 Mental Tricks To Turn It Around', 'authors': 'Health, Health'}}, {'_index': 'movies', '_id': 'k8dMeZAB60v8f4HZDRIS', '_score': 7.7616596, '_source': {'date': '2012-04-25', 'short_description': 'At the very least, clear your head by getting outside for a few minutes, since research shows that being in nature is the', '@timestamp': '2012-04-25T00:00:00.000+05:30', 'link': 'https://www.huffingtonpost.com/entry/technology-on-your-side_us_5b9b9d46e4b03a1dcc790ea6', 'category': 'WELLNESS', 'headline': '5 Smart Strategies For Making Technology Work On Your Side', 'authors': 'Health, Health'}}, {'_index': 'movies', '_id': 'VmdMeZAB4ppkEz5JL60D', '_score': 7.7616596, '_source': {'date': '2012-04-07', 'short_description': \"Anger happens, it's just part of life. But if you have depression you can add anger to the list (along with sadness, fearfulness\", '@timestamp': '2012-04-07T00:00:00.000+05:30', 'link': 'https://www.huffingtonpost.com/entry/anger-management-dos-donts_us_5b9b8ba8e4b03a1dcc787dc3', 'category': 'WELLNESS', 'headline': \"Dos And Don'ts For Dealing With Anger\", 'authors': 'Health, Health'}}, {'_index': 'movies', '_id': 'NsZKeZAB60v8f4HZdKOC', '_score': 7.1683445, '_source': {'date': '2013-12-16', 'short_description': \"Unless we change behaviors and the environments people live and work in there will be limited impact on the economic burden a society and a community face. In other words, we can't afford to still primarily focus on medical care.\", '@timestamp': '2013-12-16T00:00:00.000+05:30', 'link': 'https://www.huffingtonpost.com/entry/health-care_us_5b9db8cbe4b03a1dcc8c031d', 'category': 'WELLNESS', 'headline': 'Population Health: Transforming Health Care to Improve Our Health', 'authors': 'Lloyd I. Sederer, MD, Contributor\\nChief Medical Officer, New York State Office of Mental Health'}}, {'_index': 'movies', '_id': 'WWZJeZAB4ppkEz5Jqvvq', '_score': 7.1494923, '_source': {'date': '2015-04-11', 'short_description': 'When former Secretary of State Hillary Clinton spoke the famous words \"women\\'s rights are human rights,\" it was more than just great rhetoric: It was a powerful reminder that the world can never achieve true progress if half our population is left behind.', '@timestamp': '2015-04-11T00:00:00.000+05:30', 'link': 'https://www.huffingtonpost.com/entry/womens-health-is-everyone_b_7042872.html', 'category': 'IMPACT', 'headline': \"Women's Health Is Everyone's Health\", 'authors': 'UN Women, ContributorUN Women is the UN organization dedicated to gender equality a...'}}, {'_index': 'movies', '_id': 'CsZKeZAB60v8f4HZGYyN', '_score': 7.1494923, '_source': {'date': '2014-03-21', 'short_description': 'We know there are differences between groups of people in America that affect how often a disease affects them. Race or ethnicity', '@timestamp': '2014-03-21T00:00:00.000+05:30', 'link': 'https://www.huffingtonpost.com/entry/optimal-health-and-health_us_5b9dee2ce4b03a1dcc8ef4bf', 'category': 'WELLNESS', 'headline': 'Optimal Health and Health Disparity', 'authors': 'Dr. Michael R. Mantell, Contributor\\nSenior Fitness Consultant for Behavioral Sciences, American Co...'}}, {'_index': 'movies', '_id': 'gsZKeZAB60v8f4HZBn_D', '_score': 6.917386, '_source': {'date': '2014-05-24', 'short_description': 'Mental health challenges are a significant barrier to economic and social development around the world. Resources and expertise are extremely limited, creating a huge gap between the need and the ability to treat.', '@timestamp': '2014-05-24T00:00:00.000+05:30', 'link': 'https://www.huffingtonpost.com/entry/global-health-mental-health_b_5382003.html', 'category': 'IMPACT', 'headline': 'Global Health Must Include Mental Health', 'authors': 'Craig and Marc Kielburger, ContributorCo-Founders, WE'}}, {'_index': 'movies', '_id': 'jMZLeZAB60v8f4HZuPTO', '_score': 6.917386, '_source': {'date': '2012-11-01', 'short_description': \"While 21st century approaches to public health have increasingly focused on healthy living with diet, exercise, smoking cessation, and access to preventive health care, there is a growing evidence base to incorporate mental health into our nation's public health agenda.\", '@timestamp': '2012-11-01T00:00:00.000+05:30', 'link': 'https://www.huffingtonpost.com/entry/mental-health_us_5b9c788fe4b03a1dcc7ef433', 'category': 'WELLNESS', 'headline': 'Recognizing Mental Health as Public Health', 'authors': 'Neal L. Cohen, M.D., Contributor\\nInterim Dean, CUNY School of Public Health at Hunter College'}}, {'_index': 'movies', '_id': '3GZIeZAB4ppkEz5JGGhP', '_score': 6.7239294, '_source': {'date': '2017-04-19', 'short_description': 'How essential health benefits sunk the American Health Care Act.', '@timestamp': '2017-04-19T00:00:00.000+05:30', 'link': 'https://www.huffingtonpost.com/entry/are-we-witnessing-a-turning-point-in-us-healthcare_us_58f78139e4b0c892a4fb7451', 'category': 'POLITICS', 'headline': 'Are We Witnessing A Turning Point In U.S. Health Care?', 'authors': 'Alex Tolbert, ContributorFounder and CEO of Bernard Health'}}, {'_index': 'movies', '_id': '6GZJeZAB4ppkEz5JnfDi', '_score': 6.699877, '_source': {'date': '2015-05-12', 'short_description': 'Women are often the center of a family, a neighborhood, a business or a volunteer effort, but as I remind women every day, we cannot fulfill these roles unless we are healthy and vibrant.  Here is my decade-by-decade guide to your health.', '@timestamp': '2015-05-12T00:00:00.000+05:30', 'link': 'https://www.huffingtonpost.com/entry/women-health_b_7253732.html', 'category': 'HEALTHY LIVING', 'headline': \"Women's Health Week: Your Health by Decade\", 'authors': 'Tasneem Bhatia, M.D., ContributorDr. Taz MD, Creator of Superwomen, Power Kids and Healthy Fami...'}}]}})"
      ]
     },
     "execution_count": 91,
     "metadata": {},
     "output_type": "execute_result"
    }
   ],
   "source": [
    "es.search(index=\"movies\", q=\"health\")"
   ]
  },
  {
   "cell_type": "code",
   "execution_count": 92,
   "metadata": {},
   "outputs": [],
   "source": [
    "# Define your search query\n",
    "query = {\n",
    "    \"query\": {\n",
    "        \"match\": {\n",
    "            \"your_field_name\": \"health\"\n",
    "        }\n",
    "    }\n",
    "}\n",
    "\n",
    "# Perform the search\n",
    "result = es.search(index=\"movies\", body=query)"
   ]
  },
  {
   "cell_type": "code",
   "execution_count": 93,
   "metadata": {},
   "outputs": [
    {
     "data": {
      "text/plain": [
       "ObjectApiResponse({'took': 0, 'timed_out': False, '_shards': {'total': 1, 'successful': 1, 'skipped': 0, 'failed': 0}, 'hits': {'total': {'value': 0, 'relation': 'eq'}, 'max_score': None, 'hits': []}})"
      ]
     },
     "execution_count": 93,
     "metadata": {},
     "output_type": "execute_result"
    }
   ],
   "source": [
    "result"
   ]
  },
  {
   "cell_type": "code",
   "execution_count": 94,
   "metadata": {},
   "outputs": [],
   "source": [
    "# Function to display results in a descriptive way\n",
    "def display_results(search_result):\n",
    "    hits = search_result['hits']['hits']\n",
    "    total_hits = search_result['hits']['total']['value']\n",
    "    print(f\"Total hits: {total_hits}\\n\")\n",
    "\n",
    "    for hit in hits:\n",
    "        source = hit['_source']\n",
    "        headline = source.get('headline', 'No headline')\n",
    "        description = source.get('short_description', 'No description')\n",
    "        date = source.get('date', 'No date')\n",
    "        link = source.get('link', 'No link')\n",
    "        category = source.get('category', 'No category')\n",
    "        authors = source.get('authors', 'No authors')\n",
    "\n",
    "        print(f\"Headline: {headline}\")\n",
    "        print(f\"Description: {description}\")\n",
    "        print(f\"Date: {date}\")\n",
    "        print(f\"Category: {category}\")\n",
    "        print(f\"Authors: {authors}\")\n",
    "        print(f\"Link: {link}\")\n",
    "        print(\"-\" * 40)"
   ]
  },
  {
   "cell_type": "code",
   "execution_count": 95,
   "metadata": {},
   "outputs": [
    {
     "name": "stdout",
     "output_type": "stream",
     "text": [
      "Total hits: 0\n",
      "\n"
     ]
    }
   ],
   "source": [
    "display_results(result)"
   ]
  },
  {
   "cell_type": "code",
   "execution_count": 96,
   "metadata": {},
   "outputs": [],
   "source": [
    "# Define your search query\n",
    "query = {\n",
    "   \"query\": {\n",
    "    \"match\": {\n",
    "      \"headline\": {\n",
    "        \"query\": \"health\",\n",
    "        \"operator\": \"and\"\n",
    "      }\n",
    "    }\n",
    "  }\n",
    "}\n",
    "\n",
    "# Perform the search\n",
    "result = es.search(index=\"movies\", body=query)"
   ]
  },
  {
   "cell_type": "code",
   "execution_count": 97,
   "metadata": {},
   "outputs": [
    {
     "data": {
      "text/plain": [
       "ObjectApiResponse({'took': 2, 'timed_out': False, '_shards': {'total': 1, 'successful': 1, 'skipped': 0, 'failed': 0}, 'hits': {'total': {'value': 2349, 'relation': 'eq'}, 'max_score': 7.1683445, 'hits': [{'_index': 'movies', '_id': 'NsZKeZAB60v8f4HZdKOC', '_score': 7.1683445, '_source': {'date': '2013-12-16', 'short_description': \"Unless we change behaviors and the environments people live and work in there will be limited impact on the economic burden a society and a community face. In other words, we can't afford to still primarily focus on medical care.\", '@timestamp': '2013-12-16T00:00:00.000+05:30', 'link': 'https://www.huffingtonpost.com/entry/health-care_us_5b9db8cbe4b03a1dcc8c031d', 'category': 'WELLNESS', 'headline': 'Population Health: Transforming Health Care to Improve Our Health', 'authors': 'Lloyd I. Sederer, MD, Contributor\\nChief Medical Officer, New York State Office of Mental Health'}}, {'_index': 'movies', '_id': 'WWZJeZAB4ppkEz5Jqvvq', '_score': 7.1494923, '_source': {'date': '2015-04-11', 'short_description': 'When former Secretary of State Hillary Clinton spoke the famous words \"women\\'s rights are human rights,\" it was more than just great rhetoric: It was a powerful reminder that the world can never achieve true progress if half our population is left behind.', '@timestamp': '2015-04-11T00:00:00.000+05:30', 'link': 'https://www.huffingtonpost.com/entry/womens-health-is-everyone_b_7042872.html', 'category': 'IMPACT', 'headline': \"Women's Health Is Everyone's Health\", 'authors': 'UN Women, ContributorUN Women is the UN organization dedicated to gender equality a...'}}, {'_index': 'movies', '_id': 'CsZKeZAB60v8f4HZGYyN', '_score': 7.1494923, '_source': {'date': '2014-03-21', 'short_description': 'We know there are differences between groups of people in America that affect how often a disease affects them. Race or ethnicity', '@timestamp': '2014-03-21T00:00:00.000+05:30', 'link': 'https://www.huffingtonpost.com/entry/optimal-health-and-health_us_5b9dee2ce4b03a1dcc8ef4bf', 'category': 'WELLNESS', 'headline': 'Optimal Health and Health Disparity', 'authors': 'Dr. Michael R. Mantell, Contributor\\nSenior Fitness Consultant for Behavioral Sciences, American Co...'}}, {'_index': 'movies', '_id': 'gsZKeZAB60v8f4HZBn_D', '_score': 6.917386, '_source': {'date': '2014-05-24', 'short_description': 'Mental health challenges are a significant barrier to economic and social development around the world. Resources and expertise are extremely limited, creating a huge gap between the need and the ability to treat.', '@timestamp': '2014-05-24T00:00:00.000+05:30', 'link': 'https://www.huffingtonpost.com/entry/global-health-mental-health_b_5382003.html', 'category': 'IMPACT', 'headline': 'Global Health Must Include Mental Health', 'authors': 'Craig and Marc Kielburger, ContributorCo-Founders, WE'}}, {'_index': 'movies', '_id': 'jMZLeZAB60v8f4HZuPTO', '_score': 6.917386, '_source': {'date': '2012-11-01', 'short_description': \"While 21st century approaches to public health have increasingly focused on healthy living with diet, exercise, smoking cessation, and access to preventive health care, there is a growing evidence base to incorporate mental health into our nation's public health agenda.\", '@timestamp': '2012-11-01T00:00:00.000+05:30', 'link': 'https://www.huffingtonpost.com/entry/mental-health_us_5b9c788fe4b03a1dcc7ef433', 'category': 'WELLNESS', 'headline': 'Recognizing Mental Health as Public Health', 'authors': 'Neal L. Cohen, M.D., Contributor\\nInterim Dean, CUNY School of Public Health at Hunter College'}}, {'_index': 'movies', '_id': '6GZJeZAB4ppkEz5JnfDi', '_score': 6.699877, '_source': {'date': '2015-05-12', 'short_description': 'Women are often the center of a family, a neighborhood, a business or a volunteer effort, but as I remind women every day, we cannot fulfill these roles unless we are healthy and vibrant.  Here is my decade-by-decade guide to your health.', '@timestamp': '2015-05-12T00:00:00.000+05:30', 'link': 'https://www.huffingtonpost.com/entry/women-health_b_7253732.html', 'category': 'HEALTHY LIVING', 'headline': \"Women's Health Week: Your Health by Decade\", 'authors': 'Tasneem Bhatia, M.D., ContributorDr. Taz MD, Creator of Superwomen, Power Kids and Healthy Fami...'}}, {'_index': 'movies', '_id': 'ScZLeZAB60v8f4HZTsbl', '_score': 6.650704, '_source': {'date': '2013-06-07', 'short_description': \"We could manage our weight and our health with at least as great and reliable a ROI as we can get by managing our money. We could eliminate 80 percent of our lifetime risk of chronic disease. The grim landscape of modern epidemiology is not for want of knowing -- it's for want of doing.\", '@timestamp': '2013-06-07T00:00:00.000+05:30', 'link': 'https://www.huffingtonpost.com/entry/personal-health_us_5b9d3d2de4b03a1dcc85cf61', 'category': 'WELLNESS', 'headline': 'Health Sucks', 'authors': 'David L. Katz, M.D., M.P.H., Contributor\\nFounder, True Health Initiative'}}, {'_index': 'movies', '_id': 'O8VHeZAB60v8f4HZ7L9Y', '_score': 6.4956293, '_source': {'date': '2017-06-27', 'short_description': 'Skimping on preventative care and family planning would cost taxpayers a lot more for unplanned births.', '@timestamp': '2017-06-27T00:00:00.000+05:30', 'link': 'https://www.huffingtonpost.com/entry/gop-health-care-bill-women_us_595292eee4b02734df2dc30d', 'category': 'POLITICS', 'headline': \"GOP Health Care Bill Disinvests In Women's Health\", 'authors': 'Laura Bassett'}}, {'_index': 'movies', '_id': 'oGZJeZAB4ppkEz5Jne7h', '_score': 6.4956293, '_source': {'date': '2015-05-18', 'short_description': 'A recent research study indicates that for women with the most severe symptoms, maternal depression and anxiety often begin during pregnancy not just after giving birth. Yet despite this staggering statistic, 70 to 80 percent of these women never receive treatment, because they are never properly identified and diagnosed.', '@timestamp': '2015-05-18T00:00:00.000+05:30', 'link': 'https://www.huffingtonpost.com/entry/integrating-womens-health_b_7219076.html', 'category': 'IMPACT', 'headline': \"Integrating Women's Health Care for Maternal Mental Health\", 'authors': 'Dr. Juli Fraga, ContributorPsychologist'}}, {'_index': 'movies', '_id': 'YGdJeZAB4ppkEz5J5hJX', '_score': 6.4956293, '_source': {'date': '2014-09-01', 'short_description': 'How can success be disaster, even in health care? As the Michael W. Smith song says, \"Let me show you the way.\"', '@timestamp': '2014-09-01T00:00:00.000+05:30', 'link': 'https://www.huffingtonpost.com/entry/can-healthcare-success-be_b_5739134.html', 'category': 'POLITICS', 'headline': 'Can Health Care Success Be Health Care Disaster?', 'authors': 'Deane Waldman, ContributorDirector, Texas Health Care Policy Center'}}]}})"
      ]
     },
     "execution_count": 97,
     "metadata": {},
     "output_type": "execute_result"
    }
   ],
   "source": [
    "result"
   ]
  },
  {
   "cell_type": "code",
   "execution_count": 98,
   "metadata": {},
   "outputs": [
    {
     "name": "stdout",
     "output_type": "stream",
     "text": [
      "Total hits: 2349\n",
      "\n",
      "Headline: Population Health: Transforming Health Care to Improve Our Health\n",
      "Description: Unless we change behaviors and the environments people live and work in there will be limited impact on the economic burden a society and a community face. In other words, we can't afford to still primarily focus on medical care.\n",
      "Date: 2013-12-16\n",
      "Category: WELLNESS\n",
      "Authors: Lloyd I. Sederer, MD, Contributor\n",
      "Chief Medical Officer, New York State Office of Mental Health\n",
      "Link: https://www.huffingtonpost.com/entry/health-care_us_5b9db8cbe4b03a1dcc8c031d\n",
      "----------------------------------------\n",
      "Headline: Women's Health Is Everyone's Health\n",
      "Description: When former Secretary of State Hillary Clinton spoke the famous words \"women's rights are human rights,\" it was more than just great rhetoric: It was a powerful reminder that the world can never achieve true progress if half our population is left behind.\n",
      "Date: 2015-04-11\n",
      "Category: IMPACT\n",
      "Authors: UN Women, ContributorUN Women is the UN organization dedicated to gender equality a...\n",
      "Link: https://www.huffingtonpost.com/entry/womens-health-is-everyone_b_7042872.html\n",
      "----------------------------------------\n",
      "Headline: Optimal Health and Health Disparity\n",
      "Description: We know there are differences between groups of people in America that affect how often a disease affects them. Race or ethnicity\n",
      "Date: 2014-03-21\n",
      "Category: WELLNESS\n",
      "Authors: Dr. Michael R. Mantell, Contributor\n",
      "Senior Fitness Consultant for Behavioral Sciences, American Co...\n",
      "Link: https://www.huffingtonpost.com/entry/optimal-health-and-health_us_5b9dee2ce4b03a1dcc8ef4bf\n",
      "----------------------------------------\n",
      "Headline: Global Health Must Include Mental Health\n",
      "Description: Mental health challenges are a significant barrier to economic and social development around the world. Resources and expertise are extremely limited, creating a huge gap between the need and the ability to treat.\n",
      "Date: 2014-05-24\n",
      "Category: IMPACT\n",
      "Authors: Craig and Marc Kielburger, ContributorCo-Founders, WE\n",
      "Link: https://www.huffingtonpost.com/entry/global-health-mental-health_b_5382003.html\n",
      "----------------------------------------\n",
      "Headline: Recognizing Mental Health as Public Health\n",
      "Description: While 21st century approaches to public health have increasingly focused on healthy living with diet, exercise, smoking cessation, and access to preventive health care, there is a growing evidence base to incorporate mental health into our nation's public health agenda.\n",
      "Date: 2012-11-01\n",
      "Category: WELLNESS\n",
      "Authors: Neal L. Cohen, M.D., Contributor\n",
      "Interim Dean, CUNY School of Public Health at Hunter College\n",
      "Link: https://www.huffingtonpost.com/entry/mental-health_us_5b9c788fe4b03a1dcc7ef433\n",
      "----------------------------------------\n",
      "Headline: Women's Health Week: Your Health by Decade\n",
      "Description: Women are often the center of a family, a neighborhood, a business or a volunteer effort, but as I remind women every day, we cannot fulfill these roles unless we are healthy and vibrant.  Here is my decade-by-decade guide to your health.\n",
      "Date: 2015-05-12\n",
      "Category: HEALTHY LIVING\n",
      "Authors: Tasneem Bhatia, M.D., ContributorDr. Taz MD, Creator of Superwomen, Power Kids and Healthy Fami...\n",
      "Link: https://www.huffingtonpost.com/entry/women-health_b_7253732.html\n",
      "----------------------------------------\n",
      "Headline: Health Sucks\n",
      "Description: We could manage our weight and our health with at least as great and reliable a ROI as we can get by managing our money. We could eliminate 80 percent of our lifetime risk of chronic disease. The grim landscape of modern epidemiology is not for want of knowing -- it's for want of doing.\n",
      "Date: 2013-06-07\n",
      "Category: WELLNESS\n",
      "Authors: David L. Katz, M.D., M.P.H., Contributor\n",
      "Founder, True Health Initiative\n",
      "Link: https://www.huffingtonpost.com/entry/personal-health_us_5b9d3d2de4b03a1dcc85cf61\n",
      "----------------------------------------\n",
      "Headline: GOP Health Care Bill Disinvests In Women's Health\n",
      "Description: Skimping on preventative care and family planning would cost taxpayers a lot more for unplanned births.\n",
      "Date: 2017-06-27\n",
      "Category: POLITICS\n",
      "Authors: Laura Bassett\n",
      "Link: https://www.huffingtonpost.com/entry/gop-health-care-bill-women_us_595292eee4b02734df2dc30d\n",
      "----------------------------------------\n",
      "Headline: Integrating Women's Health Care for Maternal Mental Health\n",
      "Description: A recent research study indicates that for women with the most severe symptoms, maternal depression and anxiety often begin during pregnancy not just after giving birth. Yet despite this staggering statistic, 70 to 80 percent of these women never receive treatment, because they are never properly identified and diagnosed.\n",
      "Date: 2015-05-18\n",
      "Category: IMPACT\n",
      "Authors: Dr. Juli Fraga, ContributorPsychologist\n",
      "Link: https://www.huffingtonpost.com/entry/integrating-womens-health_b_7219076.html\n",
      "----------------------------------------\n",
      "Headline: Can Health Care Success Be Health Care Disaster?\n",
      "Description: How can success be disaster, even in health care? As the Michael W. Smith song says, \"Let me show you the way.\"\n",
      "Date: 2014-09-01\n",
      "Category: POLITICS\n",
      "Authors: Deane Waldman, ContributorDirector, Texas Health Care Policy Center\n",
      "Link: https://www.huffingtonpost.com/entry/can-healthcare-success-be_b_5739134.html\n",
      "----------------------------------------\n"
     ]
    }
   ],
   "source": [
    "display_results(result)"
   ]
  },
  {
   "cell_type": "code",
   "execution_count": 99,
   "metadata": {},
   "outputs": [],
   "source": [
    "# Index a document\n",
    "doc = {\n",
    "    'author': 'John Doe',\n",
    "    'text': 'Elasticsearch: cool. bonsai cool.',\n",
    "    'timestamp': '2024-07-03T14:12:12'\n",
    "}"
   ]
  },
  {
   "cell_type": "code",
   "execution_count": 100,
   "metadata": {},
   "outputs": [
    {
     "data": {
      "text/plain": [
       "['Population Health: Transforming Health Care to Improve Our Health',\n",
       " \"Women's Health Is Everyone's Health\",\n",
       " 'Optimal Health and Health Disparity',\n",
       " 'Global Health Must Include Mental Health',\n",
       " 'Recognizing Mental Health as Public Health',\n",
       " \"Women's Health Week: Your Health by Decade\",\n",
       " 'Health Sucks',\n",
       " \"GOP Health Care Bill Disinvests In Women's Health\",\n",
       " \"Integrating Women's Health Care for Maternal Mental Health\",\n",
       " 'Can Health Care Success Be Health Care Disaster?']"
      ]
     },
     "execution_count": 100,
     "metadata": {},
     "output_type": "execute_result"
    }
   ],
   "source": [
    "headlines"
   ]
  },
  {
   "cell_type": "code",
   "execution_count": 101,
   "metadata": {},
   "outputs": [
    {
     "name": "stdout",
     "output_type": "stream",
     "text": [
      "{'_index': 'movies', '_id': 'NsZKeZAB60v8f4HZdKOC', '_score': 7.1683445, '_source': {'date': '2013-12-16', 'short_description': \"Unless we change behaviors and the environments people live and work in there will be limited impact on the economic burden a society and a community face. In other words, we can't afford to still primarily focus on medical care.\", '@timestamp': '2013-12-16T00:00:00.000+05:30', 'link': 'https://www.huffingtonpost.com/entry/health-care_us_5b9db8cbe4b03a1dcc8c031d', 'category': 'WELLNESS', 'headline': 'Population Health: Transforming Health Care to Improve Our Health', 'authors': 'Lloyd I. Sederer, MD, Contributor\\nChief Medical Officer, New York State Office of Mental Health'}}\n",
      "{'_index': 'movies', '_id': 'WWZJeZAB4ppkEz5Jqvvq', '_score': 7.1494923, '_source': {'date': '2015-04-11', 'short_description': 'When former Secretary of State Hillary Clinton spoke the famous words \"women\\'s rights are human rights,\" it was more than just great rhetoric: It was a powerful reminder that the world can never achieve true progress if half our population is left behind.', '@timestamp': '2015-04-11T00:00:00.000+05:30', 'link': 'https://www.huffingtonpost.com/entry/womens-health-is-everyone_b_7042872.html', 'category': 'IMPACT', 'headline': \"Women's Health Is Everyone's Health\", 'authors': 'UN Women, ContributorUN Women is the UN organization dedicated to gender equality a...'}}\n",
      "{'_index': 'movies', '_id': 'CsZKeZAB60v8f4HZGYyN', '_score': 7.1494923, '_source': {'date': '2014-03-21', 'short_description': 'We know there are differences between groups of people in America that affect how often a disease affects them. Race or ethnicity', '@timestamp': '2014-03-21T00:00:00.000+05:30', 'link': 'https://www.huffingtonpost.com/entry/optimal-health-and-health_us_5b9dee2ce4b03a1dcc8ef4bf', 'category': 'WELLNESS', 'headline': 'Optimal Health and Health Disparity', 'authors': 'Dr. Michael R. Mantell, Contributor\\nSenior Fitness Consultant for Behavioral Sciences, American Co...'}}\n",
      "{'_index': 'movies', '_id': 'gsZKeZAB60v8f4HZBn_D', '_score': 6.917386, '_source': {'date': '2014-05-24', 'short_description': 'Mental health challenges are a significant barrier to economic and social development around the world. Resources and expertise are extremely limited, creating a huge gap between the need and the ability to treat.', '@timestamp': '2014-05-24T00:00:00.000+05:30', 'link': 'https://www.huffingtonpost.com/entry/global-health-mental-health_b_5382003.html', 'category': 'IMPACT', 'headline': 'Global Health Must Include Mental Health', 'authors': 'Craig and Marc Kielburger, ContributorCo-Founders, WE'}}\n",
      "{'_index': 'movies', '_id': 'jMZLeZAB60v8f4HZuPTO', '_score': 6.917386, '_source': {'date': '2012-11-01', 'short_description': \"While 21st century approaches to public health have increasingly focused on healthy living with diet, exercise, smoking cessation, and access to preventive health care, there is a growing evidence base to incorporate mental health into our nation's public health agenda.\", '@timestamp': '2012-11-01T00:00:00.000+05:30', 'link': 'https://www.huffingtonpost.com/entry/mental-health_us_5b9c788fe4b03a1dcc7ef433', 'category': 'WELLNESS', 'headline': 'Recognizing Mental Health as Public Health', 'authors': 'Neal L. Cohen, M.D., Contributor\\nInterim Dean, CUNY School of Public Health at Hunter College'}}\n",
      "{'_index': 'movies', '_id': '6GZJeZAB4ppkEz5JnfDi', '_score': 6.699877, '_source': {'date': '2015-05-12', 'short_description': 'Women are often the center of a family, a neighborhood, a business or a volunteer effort, but as I remind women every day, we cannot fulfill these roles unless we are healthy and vibrant.  Here is my decade-by-decade guide to your health.', '@timestamp': '2015-05-12T00:00:00.000+05:30', 'link': 'https://www.huffingtonpost.com/entry/women-health_b_7253732.html', 'category': 'HEALTHY LIVING', 'headline': \"Women's Health Week: Your Health by Decade\", 'authors': 'Tasneem Bhatia, M.D., ContributorDr. Taz MD, Creator of Superwomen, Power Kids and Healthy Fami...'}}\n",
      "{'_index': 'movies', '_id': 'ScZLeZAB60v8f4HZTsbl', '_score': 6.650704, '_source': {'date': '2013-06-07', 'short_description': \"We could manage our weight and our health with at least as great and reliable a ROI as we can get by managing our money. We could eliminate 80 percent of our lifetime risk of chronic disease. The grim landscape of modern epidemiology is not for want of knowing -- it's for want of doing.\", '@timestamp': '2013-06-07T00:00:00.000+05:30', 'link': 'https://www.huffingtonpost.com/entry/personal-health_us_5b9d3d2de4b03a1dcc85cf61', 'category': 'WELLNESS', 'headline': 'Health Sucks', 'authors': 'David L. Katz, M.D., M.P.H., Contributor\\nFounder, True Health Initiative'}}\n",
      "{'_index': 'movies', '_id': 'O8VHeZAB60v8f4HZ7L9Y', '_score': 6.4956293, '_source': {'date': '2017-06-27', 'short_description': 'Skimping on preventative care and family planning would cost taxpayers a lot more for unplanned births.', '@timestamp': '2017-06-27T00:00:00.000+05:30', 'link': 'https://www.huffingtonpost.com/entry/gop-health-care-bill-women_us_595292eee4b02734df2dc30d', 'category': 'POLITICS', 'headline': \"GOP Health Care Bill Disinvests In Women's Health\", 'authors': 'Laura Bassett'}}\n",
      "{'_index': 'movies', '_id': 'oGZJeZAB4ppkEz5Jne7h', '_score': 6.4956293, '_source': {'date': '2015-05-18', 'short_description': 'A recent research study indicates that for women with the most severe symptoms, maternal depression and anxiety often begin during pregnancy not just after giving birth. Yet despite this staggering statistic, 70 to 80 percent of these women never receive treatment, because they are never properly identified and diagnosed.', '@timestamp': '2015-05-18T00:00:00.000+05:30', 'link': 'https://www.huffingtonpost.com/entry/integrating-womens-health_b_7219076.html', 'category': 'IMPACT', 'headline': \"Integrating Women's Health Care for Maternal Mental Health\", 'authors': 'Dr. Juli Fraga, ContributorPsychologist'}}\n",
      "{'_index': 'movies', '_id': 'YGdJeZAB4ppkEz5J5hJX', '_score': 6.4956293, '_source': {'date': '2014-09-01', 'short_description': 'How can success be disaster, even in health care? As the Michael W. Smith song says, \"Let me show you the way.\"', '@timestamp': '2014-09-01T00:00:00.000+05:30', 'link': 'https://www.huffingtonpost.com/entry/can-healthcare-success-be_b_5739134.html', 'category': 'POLITICS', 'headline': 'Can Health Care Success Be Health Care Disaster?', 'authors': 'Deane Waldman, ContributorDirector, Texas Health Care Policy Center'}}\n"
     ]
    }
   ],
   "source": [
    "for hit in result['hits']['hits']:\n",
    " print(hit)"
   ]
  },
  {
   "cell_type": "code",
   "execution_count": 102,
   "metadata": {},
   "outputs": [
    {
     "data": {
      "application/vnd.plotly.v1+json": {
       "config": {
        "plotlyServerURL": "https://plot.ly"
       },
       "data": [
        {
         "domain": {
          "x": [
           0,
           1
          ],
          "y": [
           0,
           1
          ]
         },
         "hovertemplate": "label=%{label}<extra></extra>",
         "labels": [
          "WELLNESS",
          "IMPACT",
          "WELLNESS",
          "IMPACT",
          "WELLNESS",
          "HEALTHY LIVING",
          "WELLNESS",
          "POLITICS",
          "IMPACT",
          "POLITICS"
         ],
         "legendgroup": "",
         "name": "",
         "showlegend": true,
         "type": "pie"
        }
       ],
       "layout": {
        "legend": {
         "tracegroupgap": 0
        },
        "margin": {
         "t": 60
        },
        "template": {
         "data": {
          "bar": [
           {
            "error_x": {
             "color": "#2a3f5f"
            },
            "error_y": {
             "color": "#2a3f5f"
            },
            "marker": {
             "line": {
              "color": "#E5ECF6",
              "width": 0.5
             },
             "pattern": {
              "fillmode": "overlay",
              "size": 10,
              "solidity": 0.2
             }
            },
            "type": "bar"
           }
          ],
          "barpolar": [
           {
            "marker": {
             "line": {
              "color": "#E5ECF6",
              "width": 0.5
             },
             "pattern": {
              "fillmode": "overlay",
              "size": 10,
              "solidity": 0.2
             }
            },
            "type": "barpolar"
           }
          ],
          "carpet": [
           {
            "aaxis": {
             "endlinecolor": "#2a3f5f",
             "gridcolor": "white",
             "linecolor": "white",
             "minorgridcolor": "white",
             "startlinecolor": "#2a3f5f"
            },
            "baxis": {
             "endlinecolor": "#2a3f5f",
             "gridcolor": "white",
             "linecolor": "white",
             "minorgridcolor": "white",
             "startlinecolor": "#2a3f5f"
            },
            "type": "carpet"
           }
          ],
          "choropleth": [
           {
            "colorbar": {
             "outlinewidth": 0,
             "ticks": ""
            },
            "type": "choropleth"
           }
          ],
          "contour": [
           {
            "colorbar": {
             "outlinewidth": 0,
             "ticks": ""
            },
            "colorscale": [
             [
              0,
              "#0d0887"
             ],
             [
              0.1111111111111111,
              "#46039f"
             ],
             [
              0.2222222222222222,
              "#7201a8"
             ],
             [
              0.3333333333333333,
              "#9c179e"
             ],
             [
              0.4444444444444444,
              "#bd3786"
             ],
             [
              0.5555555555555556,
              "#d8576b"
             ],
             [
              0.6666666666666666,
              "#ed7953"
             ],
             [
              0.7777777777777778,
              "#fb9f3a"
             ],
             [
              0.8888888888888888,
              "#fdca26"
             ],
             [
              1,
              "#f0f921"
             ]
            ],
            "type": "contour"
           }
          ],
          "contourcarpet": [
           {
            "colorbar": {
             "outlinewidth": 0,
             "ticks": ""
            },
            "type": "contourcarpet"
           }
          ],
          "heatmap": [
           {
            "colorbar": {
             "outlinewidth": 0,
             "ticks": ""
            },
            "colorscale": [
             [
              0,
              "#0d0887"
             ],
             [
              0.1111111111111111,
              "#46039f"
             ],
             [
              0.2222222222222222,
              "#7201a8"
             ],
             [
              0.3333333333333333,
              "#9c179e"
             ],
             [
              0.4444444444444444,
              "#bd3786"
             ],
             [
              0.5555555555555556,
              "#d8576b"
             ],
             [
              0.6666666666666666,
              "#ed7953"
             ],
             [
              0.7777777777777778,
              "#fb9f3a"
             ],
             [
              0.8888888888888888,
              "#fdca26"
             ],
             [
              1,
              "#f0f921"
             ]
            ],
            "type": "heatmap"
           }
          ],
          "heatmapgl": [
           {
            "colorbar": {
             "outlinewidth": 0,
             "ticks": ""
            },
            "colorscale": [
             [
              0,
              "#0d0887"
             ],
             [
              0.1111111111111111,
              "#46039f"
             ],
             [
              0.2222222222222222,
              "#7201a8"
             ],
             [
              0.3333333333333333,
              "#9c179e"
             ],
             [
              0.4444444444444444,
              "#bd3786"
             ],
             [
              0.5555555555555556,
              "#d8576b"
             ],
             [
              0.6666666666666666,
              "#ed7953"
             ],
             [
              0.7777777777777778,
              "#fb9f3a"
             ],
             [
              0.8888888888888888,
              "#fdca26"
             ],
             [
              1,
              "#f0f921"
             ]
            ],
            "type": "heatmapgl"
           }
          ],
          "histogram": [
           {
            "marker": {
             "pattern": {
              "fillmode": "overlay",
              "size": 10,
              "solidity": 0.2
             }
            },
            "type": "histogram"
           }
          ],
          "histogram2d": [
           {
            "colorbar": {
             "outlinewidth": 0,
             "ticks": ""
            },
            "colorscale": [
             [
              0,
              "#0d0887"
             ],
             [
              0.1111111111111111,
              "#46039f"
             ],
             [
              0.2222222222222222,
              "#7201a8"
             ],
             [
              0.3333333333333333,
              "#9c179e"
             ],
             [
              0.4444444444444444,
              "#bd3786"
             ],
             [
              0.5555555555555556,
              "#d8576b"
             ],
             [
              0.6666666666666666,
              "#ed7953"
             ],
             [
              0.7777777777777778,
              "#fb9f3a"
             ],
             [
              0.8888888888888888,
              "#fdca26"
             ],
             [
              1,
              "#f0f921"
             ]
            ],
            "type": "histogram2d"
           }
          ],
          "histogram2dcontour": [
           {
            "colorbar": {
             "outlinewidth": 0,
             "ticks": ""
            },
            "colorscale": [
             [
              0,
              "#0d0887"
             ],
             [
              0.1111111111111111,
              "#46039f"
             ],
             [
              0.2222222222222222,
              "#7201a8"
             ],
             [
              0.3333333333333333,
              "#9c179e"
             ],
             [
              0.4444444444444444,
              "#bd3786"
             ],
             [
              0.5555555555555556,
              "#d8576b"
             ],
             [
              0.6666666666666666,
              "#ed7953"
             ],
             [
              0.7777777777777778,
              "#fb9f3a"
             ],
             [
              0.8888888888888888,
              "#fdca26"
             ],
             [
              1,
              "#f0f921"
             ]
            ],
            "type": "histogram2dcontour"
           }
          ],
          "mesh3d": [
           {
            "colorbar": {
             "outlinewidth": 0,
             "ticks": ""
            },
            "type": "mesh3d"
           }
          ],
          "parcoords": [
           {
            "line": {
             "colorbar": {
              "outlinewidth": 0,
              "ticks": ""
             }
            },
            "type": "parcoords"
           }
          ],
          "pie": [
           {
            "automargin": true,
            "type": "pie"
           }
          ],
          "scatter": [
           {
            "fillpattern": {
             "fillmode": "overlay",
             "size": 10,
             "solidity": 0.2
            },
            "type": "scatter"
           }
          ],
          "scatter3d": [
           {
            "line": {
             "colorbar": {
              "outlinewidth": 0,
              "ticks": ""
             }
            },
            "marker": {
             "colorbar": {
              "outlinewidth": 0,
              "ticks": ""
             }
            },
            "type": "scatter3d"
           }
          ],
          "scattercarpet": [
           {
            "marker": {
             "colorbar": {
              "outlinewidth": 0,
              "ticks": ""
             }
            },
            "type": "scattercarpet"
           }
          ],
          "scattergeo": [
           {
            "marker": {
             "colorbar": {
              "outlinewidth": 0,
              "ticks": ""
             }
            },
            "type": "scattergeo"
           }
          ],
          "scattergl": [
           {
            "marker": {
             "colorbar": {
              "outlinewidth": 0,
              "ticks": ""
             }
            },
            "type": "scattergl"
           }
          ],
          "scattermapbox": [
           {
            "marker": {
             "colorbar": {
              "outlinewidth": 0,
              "ticks": ""
             }
            },
            "type": "scattermapbox"
           }
          ],
          "scatterpolar": [
           {
            "marker": {
             "colorbar": {
              "outlinewidth": 0,
              "ticks": ""
             }
            },
            "type": "scatterpolar"
           }
          ],
          "scatterpolargl": [
           {
            "marker": {
             "colorbar": {
              "outlinewidth": 0,
              "ticks": ""
             }
            },
            "type": "scatterpolargl"
           }
          ],
          "scatterternary": [
           {
            "marker": {
             "colorbar": {
              "outlinewidth": 0,
              "ticks": ""
             }
            },
            "type": "scatterternary"
           }
          ],
          "surface": [
           {
            "colorbar": {
             "outlinewidth": 0,
             "ticks": ""
            },
            "colorscale": [
             [
              0,
              "#0d0887"
             ],
             [
              0.1111111111111111,
              "#46039f"
             ],
             [
              0.2222222222222222,
              "#7201a8"
             ],
             [
              0.3333333333333333,
              "#9c179e"
             ],
             [
              0.4444444444444444,
              "#bd3786"
             ],
             [
              0.5555555555555556,
              "#d8576b"
             ],
             [
              0.6666666666666666,
              "#ed7953"
             ],
             [
              0.7777777777777778,
              "#fb9f3a"
             ],
             [
              0.8888888888888888,
              "#fdca26"
             ],
             [
              1,
              "#f0f921"
             ]
            ],
            "type": "surface"
           }
          ],
          "table": [
           {
            "cells": {
             "fill": {
              "color": "#EBF0F8"
             },
             "line": {
              "color": "white"
             }
            },
            "header": {
             "fill": {
              "color": "#C8D4E3"
             },
             "line": {
              "color": "white"
             }
            },
            "type": "table"
           }
          ]
         },
         "layout": {
          "annotationdefaults": {
           "arrowcolor": "#2a3f5f",
           "arrowhead": 0,
           "arrowwidth": 1
          },
          "autotypenumbers": "strict",
          "coloraxis": {
           "colorbar": {
            "outlinewidth": 0,
            "ticks": ""
           }
          },
          "colorscale": {
           "diverging": [
            [
             0,
             "#8e0152"
            ],
            [
             0.1,
             "#c51b7d"
            ],
            [
             0.2,
             "#de77ae"
            ],
            [
             0.3,
             "#f1b6da"
            ],
            [
             0.4,
             "#fde0ef"
            ],
            [
             0.5,
             "#f7f7f7"
            ],
            [
             0.6,
             "#e6f5d0"
            ],
            [
             0.7,
             "#b8e186"
            ],
            [
             0.8,
             "#7fbc41"
            ],
            [
             0.9,
             "#4d9221"
            ],
            [
             1,
             "#276419"
            ]
           ],
           "sequential": [
            [
             0,
             "#0d0887"
            ],
            [
             0.1111111111111111,
             "#46039f"
            ],
            [
             0.2222222222222222,
             "#7201a8"
            ],
            [
             0.3333333333333333,
             "#9c179e"
            ],
            [
             0.4444444444444444,
             "#bd3786"
            ],
            [
             0.5555555555555556,
             "#d8576b"
            ],
            [
             0.6666666666666666,
             "#ed7953"
            ],
            [
             0.7777777777777778,
             "#fb9f3a"
            ],
            [
             0.8888888888888888,
             "#fdca26"
            ],
            [
             1,
             "#f0f921"
            ]
           ],
           "sequentialminus": [
            [
             0,
             "#0d0887"
            ],
            [
             0.1111111111111111,
             "#46039f"
            ],
            [
             0.2222222222222222,
             "#7201a8"
            ],
            [
             0.3333333333333333,
             "#9c179e"
            ],
            [
             0.4444444444444444,
             "#bd3786"
            ],
            [
             0.5555555555555556,
             "#d8576b"
            ],
            [
             0.6666666666666666,
             "#ed7953"
            ],
            [
             0.7777777777777778,
             "#fb9f3a"
            ],
            [
             0.8888888888888888,
             "#fdca26"
            ],
            [
             1,
             "#f0f921"
            ]
           ]
          },
          "colorway": [
           "#636efa",
           "#EF553B",
           "#00cc96",
           "#ab63fa",
           "#FFA15A",
           "#19d3f3",
           "#FF6692",
           "#B6E880",
           "#FF97FF",
           "#FECB52"
          ],
          "font": {
           "color": "#2a3f5f"
          },
          "geo": {
           "bgcolor": "white",
           "lakecolor": "white",
           "landcolor": "#E5ECF6",
           "showlakes": true,
           "showland": true,
           "subunitcolor": "white"
          },
          "hoverlabel": {
           "align": "left"
          },
          "hovermode": "closest",
          "mapbox": {
           "style": "light"
          },
          "paper_bgcolor": "white",
          "plot_bgcolor": "#E5ECF6",
          "polar": {
           "angularaxis": {
            "gridcolor": "white",
            "linecolor": "white",
            "ticks": ""
           },
           "bgcolor": "#E5ECF6",
           "radialaxis": {
            "gridcolor": "white",
            "linecolor": "white",
            "ticks": ""
           }
          },
          "scene": {
           "xaxis": {
            "backgroundcolor": "#E5ECF6",
            "gridcolor": "white",
            "gridwidth": 2,
            "linecolor": "white",
            "showbackground": true,
            "ticks": "",
            "zerolinecolor": "white"
           },
           "yaxis": {
            "backgroundcolor": "#E5ECF6",
            "gridcolor": "white",
            "gridwidth": 2,
            "linecolor": "white",
            "showbackground": true,
            "ticks": "",
            "zerolinecolor": "white"
           },
           "zaxis": {
            "backgroundcolor": "#E5ECF6",
            "gridcolor": "white",
            "gridwidth": 2,
            "linecolor": "white",
            "showbackground": true,
            "ticks": "",
            "zerolinecolor": "white"
           }
          },
          "shapedefaults": {
           "line": {
            "color": "#2a3f5f"
           }
          },
          "ternary": {
           "aaxis": {
            "gridcolor": "white",
            "linecolor": "white",
            "ticks": ""
           },
           "baxis": {
            "gridcolor": "white",
            "linecolor": "white",
            "ticks": ""
           },
           "bgcolor": "#E5ECF6",
           "caxis": {
            "gridcolor": "white",
            "linecolor": "white",
            "ticks": ""
           }
          },
          "title": {
           "x": 0.05
          },
          "xaxis": {
           "automargin": true,
           "gridcolor": "white",
           "linecolor": "white",
           "ticks": "",
           "title": {
            "standoff": 15
           },
           "zerolinecolor": "white",
           "zerolinewidth": 2
          },
          "yaxis": {
           "automargin": true,
           "gridcolor": "white",
           "linecolor": "white",
           "ticks": "",
           "title": {
            "standoff": 15
           },
           "zerolinecolor": "white",
           "zerolinewidth": 2
          }
         }
        },
        "title": {
         "text": "Elasticsearch Search Results - Category Distribution"
        }
       }
      }
     },
     "metadata": {},
     "output_type": "display_data"
    }
   ],
   "source": [
    "# Extract categories\n",
    "categories = [hit['_source']['category'] for hit in result['hits']['hits']]\n",
    "\n",
    "# Create pie chart\n",
    "fig = px.pie(names=categories)\n",
    "\n",
    "# Update layout\n",
    "fig.update_layout(\n",
    "    title='Elasticsearch Search Results - Category Distribution'\n",
    ")\n",
    "\n",
    "# Show plot\n",
    "fig.show()\n"
   ]
  },
  {
   "cell_type": "code",
   "execution_count": 103,
   "metadata": {},
   "outputs": [
    {
     "data": {
      "application/vnd.plotly.v1+json": {
       "config": {
        "plotlyServerURL": "https://plot.ly"
       },
       "data": [
        {
         "domain": {
          "x": [
           0,
           1
          ],
          "y": [
           0,
           1
          ]
         },
         "hovertemplate": "label=%{label}<extra></extra>",
         "labels": [
          "Lloyd I. Sederer, MD, Contributor\nChief Medical Officer, New York State Office of Mental Health",
          "UN Women, ContributorUN Women is the UN organization dedicated to gender equality a...",
          "Dr. Michael R. Mantell, Contributor\nSenior Fitness Consultant for Behavioral Sciences, American Co...",
          "Craig and Marc Kielburger, ContributorCo-Founders, WE",
          "Neal L. Cohen, M.D., Contributor\nInterim Dean, CUNY School of Public Health at Hunter College",
          "Tasneem Bhatia, M.D., ContributorDr. Taz MD, Creator of Superwomen, Power Kids and Healthy Fami...",
          "David L. Katz, M.D., M.P.H., Contributor\nFounder, True Health Initiative",
          "Laura Bassett",
          "Dr. Juli Fraga, ContributorPsychologist",
          "Deane Waldman, ContributorDirector, Texas Health Care Policy Center"
         ],
         "legendgroup": "",
         "name": "",
         "showlegend": true,
         "type": "pie"
        }
       ],
       "layout": {
        "legend": {
         "tracegroupgap": 0
        },
        "margin": {
         "t": 60
        },
        "template": {
         "data": {
          "bar": [
           {
            "error_x": {
             "color": "#2a3f5f"
            },
            "error_y": {
             "color": "#2a3f5f"
            },
            "marker": {
             "line": {
              "color": "#E5ECF6",
              "width": 0.5
             },
             "pattern": {
              "fillmode": "overlay",
              "size": 10,
              "solidity": 0.2
             }
            },
            "type": "bar"
           }
          ],
          "barpolar": [
           {
            "marker": {
             "line": {
              "color": "#E5ECF6",
              "width": 0.5
             },
             "pattern": {
              "fillmode": "overlay",
              "size": 10,
              "solidity": 0.2
             }
            },
            "type": "barpolar"
           }
          ],
          "carpet": [
           {
            "aaxis": {
             "endlinecolor": "#2a3f5f",
             "gridcolor": "white",
             "linecolor": "white",
             "minorgridcolor": "white",
             "startlinecolor": "#2a3f5f"
            },
            "baxis": {
             "endlinecolor": "#2a3f5f",
             "gridcolor": "white",
             "linecolor": "white",
             "minorgridcolor": "white",
             "startlinecolor": "#2a3f5f"
            },
            "type": "carpet"
           }
          ],
          "choropleth": [
           {
            "colorbar": {
             "outlinewidth": 0,
             "ticks": ""
            },
            "type": "choropleth"
           }
          ],
          "contour": [
           {
            "colorbar": {
             "outlinewidth": 0,
             "ticks": ""
            },
            "colorscale": [
             [
              0,
              "#0d0887"
             ],
             [
              0.1111111111111111,
              "#46039f"
             ],
             [
              0.2222222222222222,
              "#7201a8"
             ],
             [
              0.3333333333333333,
              "#9c179e"
             ],
             [
              0.4444444444444444,
              "#bd3786"
             ],
             [
              0.5555555555555556,
              "#d8576b"
             ],
             [
              0.6666666666666666,
              "#ed7953"
             ],
             [
              0.7777777777777778,
              "#fb9f3a"
             ],
             [
              0.8888888888888888,
              "#fdca26"
             ],
             [
              1,
              "#f0f921"
             ]
            ],
            "type": "contour"
           }
          ],
          "contourcarpet": [
           {
            "colorbar": {
             "outlinewidth": 0,
             "ticks": ""
            },
            "type": "contourcarpet"
           }
          ],
          "heatmap": [
           {
            "colorbar": {
             "outlinewidth": 0,
             "ticks": ""
            },
            "colorscale": [
             [
              0,
              "#0d0887"
             ],
             [
              0.1111111111111111,
              "#46039f"
             ],
             [
              0.2222222222222222,
              "#7201a8"
             ],
             [
              0.3333333333333333,
              "#9c179e"
             ],
             [
              0.4444444444444444,
              "#bd3786"
             ],
             [
              0.5555555555555556,
              "#d8576b"
             ],
             [
              0.6666666666666666,
              "#ed7953"
             ],
             [
              0.7777777777777778,
              "#fb9f3a"
             ],
             [
              0.8888888888888888,
              "#fdca26"
             ],
             [
              1,
              "#f0f921"
             ]
            ],
            "type": "heatmap"
           }
          ],
          "heatmapgl": [
           {
            "colorbar": {
             "outlinewidth": 0,
             "ticks": ""
            },
            "colorscale": [
             [
              0,
              "#0d0887"
             ],
             [
              0.1111111111111111,
              "#46039f"
             ],
             [
              0.2222222222222222,
              "#7201a8"
             ],
             [
              0.3333333333333333,
              "#9c179e"
             ],
             [
              0.4444444444444444,
              "#bd3786"
             ],
             [
              0.5555555555555556,
              "#d8576b"
             ],
             [
              0.6666666666666666,
              "#ed7953"
             ],
             [
              0.7777777777777778,
              "#fb9f3a"
             ],
             [
              0.8888888888888888,
              "#fdca26"
             ],
             [
              1,
              "#f0f921"
             ]
            ],
            "type": "heatmapgl"
           }
          ],
          "histogram": [
           {
            "marker": {
             "pattern": {
              "fillmode": "overlay",
              "size": 10,
              "solidity": 0.2
             }
            },
            "type": "histogram"
           }
          ],
          "histogram2d": [
           {
            "colorbar": {
             "outlinewidth": 0,
             "ticks": ""
            },
            "colorscale": [
             [
              0,
              "#0d0887"
             ],
             [
              0.1111111111111111,
              "#46039f"
             ],
             [
              0.2222222222222222,
              "#7201a8"
             ],
             [
              0.3333333333333333,
              "#9c179e"
             ],
             [
              0.4444444444444444,
              "#bd3786"
             ],
             [
              0.5555555555555556,
              "#d8576b"
             ],
             [
              0.6666666666666666,
              "#ed7953"
             ],
             [
              0.7777777777777778,
              "#fb9f3a"
             ],
             [
              0.8888888888888888,
              "#fdca26"
             ],
             [
              1,
              "#f0f921"
             ]
            ],
            "type": "histogram2d"
           }
          ],
          "histogram2dcontour": [
           {
            "colorbar": {
             "outlinewidth": 0,
             "ticks": ""
            },
            "colorscale": [
             [
              0,
              "#0d0887"
             ],
             [
              0.1111111111111111,
              "#46039f"
             ],
             [
              0.2222222222222222,
              "#7201a8"
             ],
             [
              0.3333333333333333,
              "#9c179e"
             ],
             [
              0.4444444444444444,
              "#bd3786"
             ],
             [
              0.5555555555555556,
              "#d8576b"
             ],
             [
              0.6666666666666666,
              "#ed7953"
             ],
             [
              0.7777777777777778,
              "#fb9f3a"
             ],
             [
              0.8888888888888888,
              "#fdca26"
             ],
             [
              1,
              "#f0f921"
             ]
            ],
            "type": "histogram2dcontour"
           }
          ],
          "mesh3d": [
           {
            "colorbar": {
             "outlinewidth": 0,
             "ticks": ""
            },
            "type": "mesh3d"
           }
          ],
          "parcoords": [
           {
            "line": {
             "colorbar": {
              "outlinewidth": 0,
              "ticks": ""
             }
            },
            "type": "parcoords"
           }
          ],
          "pie": [
           {
            "automargin": true,
            "type": "pie"
           }
          ],
          "scatter": [
           {
            "fillpattern": {
             "fillmode": "overlay",
             "size": 10,
             "solidity": 0.2
            },
            "type": "scatter"
           }
          ],
          "scatter3d": [
           {
            "line": {
             "colorbar": {
              "outlinewidth": 0,
              "ticks": ""
             }
            },
            "marker": {
             "colorbar": {
              "outlinewidth": 0,
              "ticks": ""
             }
            },
            "type": "scatter3d"
           }
          ],
          "scattercarpet": [
           {
            "marker": {
             "colorbar": {
              "outlinewidth": 0,
              "ticks": ""
             }
            },
            "type": "scattercarpet"
           }
          ],
          "scattergeo": [
           {
            "marker": {
             "colorbar": {
              "outlinewidth": 0,
              "ticks": ""
             }
            },
            "type": "scattergeo"
           }
          ],
          "scattergl": [
           {
            "marker": {
             "colorbar": {
              "outlinewidth": 0,
              "ticks": ""
             }
            },
            "type": "scattergl"
           }
          ],
          "scattermapbox": [
           {
            "marker": {
             "colorbar": {
              "outlinewidth": 0,
              "ticks": ""
             }
            },
            "type": "scattermapbox"
           }
          ],
          "scatterpolar": [
           {
            "marker": {
             "colorbar": {
              "outlinewidth": 0,
              "ticks": ""
             }
            },
            "type": "scatterpolar"
           }
          ],
          "scatterpolargl": [
           {
            "marker": {
             "colorbar": {
              "outlinewidth": 0,
              "ticks": ""
             }
            },
            "type": "scatterpolargl"
           }
          ],
          "scatterternary": [
           {
            "marker": {
             "colorbar": {
              "outlinewidth": 0,
              "ticks": ""
             }
            },
            "type": "scatterternary"
           }
          ],
          "surface": [
           {
            "colorbar": {
             "outlinewidth": 0,
             "ticks": ""
            },
            "colorscale": [
             [
              0,
              "#0d0887"
             ],
             [
              0.1111111111111111,
              "#46039f"
             ],
             [
              0.2222222222222222,
              "#7201a8"
             ],
             [
              0.3333333333333333,
              "#9c179e"
             ],
             [
              0.4444444444444444,
              "#bd3786"
             ],
             [
              0.5555555555555556,
              "#d8576b"
             ],
             [
              0.6666666666666666,
              "#ed7953"
             ],
             [
              0.7777777777777778,
              "#fb9f3a"
             ],
             [
              0.8888888888888888,
              "#fdca26"
             ],
             [
              1,
              "#f0f921"
             ]
            ],
            "type": "surface"
           }
          ],
          "table": [
           {
            "cells": {
             "fill": {
              "color": "#EBF0F8"
             },
             "line": {
              "color": "white"
             }
            },
            "header": {
             "fill": {
              "color": "#C8D4E3"
             },
             "line": {
              "color": "white"
             }
            },
            "type": "table"
           }
          ]
         },
         "layout": {
          "annotationdefaults": {
           "arrowcolor": "#2a3f5f",
           "arrowhead": 0,
           "arrowwidth": 1
          },
          "autotypenumbers": "strict",
          "coloraxis": {
           "colorbar": {
            "outlinewidth": 0,
            "ticks": ""
           }
          },
          "colorscale": {
           "diverging": [
            [
             0,
             "#8e0152"
            ],
            [
             0.1,
             "#c51b7d"
            ],
            [
             0.2,
             "#de77ae"
            ],
            [
             0.3,
             "#f1b6da"
            ],
            [
             0.4,
             "#fde0ef"
            ],
            [
             0.5,
             "#f7f7f7"
            ],
            [
             0.6,
             "#e6f5d0"
            ],
            [
             0.7,
             "#b8e186"
            ],
            [
             0.8,
             "#7fbc41"
            ],
            [
             0.9,
             "#4d9221"
            ],
            [
             1,
             "#276419"
            ]
           ],
           "sequential": [
            [
             0,
             "#0d0887"
            ],
            [
             0.1111111111111111,
             "#46039f"
            ],
            [
             0.2222222222222222,
             "#7201a8"
            ],
            [
             0.3333333333333333,
             "#9c179e"
            ],
            [
             0.4444444444444444,
             "#bd3786"
            ],
            [
             0.5555555555555556,
             "#d8576b"
            ],
            [
             0.6666666666666666,
             "#ed7953"
            ],
            [
             0.7777777777777778,
             "#fb9f3a"
            ],
            [
             0.8888888888888888,
             "#fdca26"
            ],
            [
             1,
             "#f0f921"
            ]
           ],
           "sequentialminus": [
            [
             0,
             "#0d0887"
            ],
            [
             0.1111111111111111,
             "#46039f"
            ],
            [
             0.2222222222222222,
             "#7201a8"
            ],
            [
             0.3333333333333333,
             "#9c179e"
            ],
            [
             0.4444444444444444,
             "#bd3786"
            ],
            [
             0.5555555555555556,
             "#d8576b"
            ],
            [
             0.6666666666666666,
             "#ed7953"
            ],
            [
             0.7777777777777778,
             "#fb9f3a"
            ],
            [
             0.8888888888888888,
             "#fdca26"
            ],
            [
             1,
             "#f0f921"
            ]
           ]
          },
          "colorway": [
           "#636efa",
           "#EF553B",
           "#00cc96",
           "#ab63fa",
           "#FFA15A",
           "#19d3f3",
           "#FF6692",
           "#B6E880",
           "#FF97FF",
           "#FECB52"
          ],
          "font": {
           "color": "#2a3f5f"
          },
          "geo": {
           "bgcolor": "white",
           "lakecolor": "white",
           "landcolor": "#E5ECF6",
           "showlakes": true,
           "showland": true,
           "subunitcolor": "white"
          },
          "hoverlabel": {
           "align": "left"
          },
          "hovermode": "closest",
          "mapbox": {
           "style": "light"
          },
          "paper_bgcolor": "white",
          "plot_bgcolor": "#E5ECF6",
          "polar": {
           "angularaxis": {
            "gridcolor": "white",
            "linecolor": "white",
            "ticks": ""
           },
           "bgcolor": "#E5ECF6",
           "radialaxis": {
            "gridcolor": "white",
            "linecolor": "white",
            "ticks": ""
           }
          },
          "scene": {
           "xaxis": {
            "backgroundcolor": "#E5ECF6",
            "gridcolor": "white",
            "gridwidth": 2,
            "linecolor": "white",
            "showbackground": true,
            "ticks": "",
            "zerolinecolor": "white"
           },
           "yaxis": {
            "backgroundcolor": "#E5ECF6",
            "gridcolor": "white",
            "gridwidth": 2,
            "linecolor": "white",
            "showbackground": true,
            "ticks": "",
            "zerolinecolor": "white"
           },
           "zaxis": {
            "backgroundcolor": "#E5ECF6",
            "gridcolor": "white",
            "gridwidth": 2,
            "linecolor": "white",
            "showbackground": true,
            "ticks": "",
            "zerolinecolor": "white"
           }
          },
          "shapedefaults": {
           "line": {
            "color": "#2a3f5f"
           }
          },
          "ternary": {
           "aaxis": {
            "gridcolor": "white",
            "linecolor": "white",
            "ticks": ""
           },
           "baxis": {
            "gridcolor": "white",
            "linecolor": "white",
            "ticks": ""
           },
           "bgcolor": "#E5ECF6",
           "caxis": {
            "gridcolor": "white",
            "linecolor": "white",
            "ticks": ""
           }
          },
          "title": {
           "x": 0.05
          },
          "xaxis": {
           "automargin": true,
           "gridcolor": "white",
           "linecolor": "white",
           "ticks": "",
           "title": {
            "standoff": 15
           },
           "zerolinecolor": "white",
           "zerolinewidth": 2
          },
          "yaxis": {
           "automargin": true,
           "gridcolor": "white",
           "linecolor": "white",
           "ticks": "",
           "title": {
            "standoff": 15
           },
           "zerolinecolor": "white",
           "zerolinewidth": 2
          }
         }
        },
        "title": {
         "text": "Elasticsearch Search Results - Author Distribution"
        }
       }
      }
     },
     "metadata": {},
     "output_type": "display_data"
    }
   ],
   "source": [
    "# Extract categories\n",
    "categories = [hit['_source']['authors'] for hit in result['hits']['hits']]\n",
    "\n",
    "# Create pie chart\n",
    "fig = px.pie(names=categories)\n",
    "\n",
    "# Update layout\n",
    "fig.update_layout(\n",
    "    title='Elasticsearch Search Results - Author Distribution'\n",
    ")\n",
    "\n",
    "# Show plot\n",
    "fig.show()"
   ]
  },
  {
   "cell_type": "code",
   "execution_count": 104,
   "metadata": {},
   "outputs": [
    {
     "data": {
      "application/vnd.plotly.v1+json": {
       "config": {
        "plotlyServerURL": "https://plot.ly"
       },
       "data": [
        {
         "domain": {
          "x": [
           0,
           1
          ],
          "y": [
           0,
           1
          ]
         },
         "hovertemplate": "label=%{label}<extra></extra>",
         "labels": [
          "Population Health: Transforming Health Care to Improve Our Health",
          "Women's Health Is Everyone's Health",
          "Optimal Health and Health Disparity",
          "Global Health Must Include Mental Health",
          "Recognizing Mental Health as Public Health",
          "Women's Health Week: Your Health by Decade",
          "Health Sucks",
          "GOP Health Care Bill Disinvests In Women's Health",
          "Integrating Women's Health Care for Maternal Mental Health",
          "Can Health Care Success Be Health Care Disaster?"
         ],
         "legendgroup": "",
         "name": "",
         "showlegend": true,
         "type": "pie"
        }
       ],
       "layout": {
        "legend": {
         "tracegroupgap": 0
        },
        "margin": {
         "t": 60
        },
        "template": {
         "data": {
          "bar": [
           {
            "error_x": {
             "color": "#2a3f5f"
            },
            "error_y": {
             "color": "#2a3f5f"
            },
            "marker": {
             "line": {
              "color": "#E5ECF6",
              "width": 0.5
             },
             "pattern": {
              "fillmode": "overlay",
              "size": 10,
              "solidity": 0.2
             }
            },
            "type": "bar"
           }
          ],
          "barpolar": [
           {
            "marker": {
             "line": {
              "color": "#E5ECF6",
              "width": 0.5
             },
             "pattern": {
              "fillmode": "overlay",
              "size": 10,
              "solidity": 0.2
             }
            },
            "type": "barpolar"
           }
          ],
          "carpet": [
           {
            "aaxis": {
             "endlinecolor": "#2a3f5f",
             "gridcolor": "white",
             "linecolor": "white",
             "minorgridcolor": "white",
             "startlinecolor": "#2a3f5f"
            },
            "baxis": {
             "endlinecolor": "#2a3f5f",
             "gridcolor": "white",
             "linecolor": "white",
             "minorgridcolor": "white",
             "startlinecolor": "#2a3f5f"
            },
            "type": "carpet"
           }
          ],
          "choropleth": [
           {
            "colorbar": {
             "outlinewidth": 0,
             "ticks": ""
            },
            "type": "choropleth"
           }
          ],
          "contour": [
           {
            "colorbar": {
             "outlinewidth": 0,
             "ticks": ""
            },
            "colorscale": [
             [
              0,
              "#0d0887"
             ],
             [
              0.1111111111111111,
              "#46039f"
             ],
             [
              0.2222222222222222,
              "#7201a8"
             ],
             [
              0.3333333333333333,
              "#9c179e"
             ],
             [
              0.4444444444444444,
              "#bd3786"
             ],
             [
              0.5555555555555556,
              "#d8576b"
             ],
             [
              0.6666666666666666,
              "#ed7953"
             ],
             [
              0.7777777777777778,
              "#fb9f3a"
             ],
             [
              0.8888888888888888,
              "#fdca26"
             ],
             [
              1,
              "#f0f921"
             ]
            ],
            "type": "contour"
           }
          ],
          "contourcarpet": [
           {
            "colorbar": {
             "outlinewidth": 0,
             "ticks": ""
            },
            "type": "contourcarpet"
           }
          ],
          "heatmap": [
           {
            "colorbar": {
             "outlinewidth": 0,
             "ticks": ""
            },
            "colorscale": [
             [
              0,
              "#0d0887"
             ],
             [
              0.1111111111111111,
              "#46039f"
             ],
             [
              0.2222222222222222,
              "#7201a8"
             ],
             [
              0.3333333333333333,
              "#9c179e"
             ],
             [
              0.4444444444444444,
              "#bd3786"
             ],
             [
              0.5555555555555556,
              "#d8576b"
             ],
             [
              0.6666666666666666,
              "#ed7953"
             ],
             [
              0.7777777777777778,
              "#fb9f3a"
             ],
             [
              0.8888888888888888,
              "#fdca26"
             ],
             [
              1,
              "#f0f921"
             ]
            ],
            "type": "heatmap"
           }
          ],
          "heatmapgl": [
           {
            "colorbar": {
             "outlinewidth": 0,
             "ticks": ""
            },
            "colorscale": [
             [
              0,
              "#0d0887"
             ],
             [
              0.1111111111111111,
              "#46039f"
             ],
             [
              0.2222222222222222,
              "#7201a8"
             ],
             [
              0.3333333333333333,
              "#9c179e"
             ],
             [
              0.4444444444444444,
              "#bd3786"
             ],
             [
              0.5555555555555556,
              "#d8576b"
             ],
             [
              0.6666666666666666,
              "#ed7953"
             ],
             [
              0.7777777777777778,
              "#fb9f3a"
             ],
             [
              0.8888888888888888,
              "#fdca26"
             ],
             [
              1,
              "#f0f921"
             ]
            ],
            "type": "heatmapgl"
           }
          ],
          "histogram": [
           {
            "marker": {
             "pattern": {
              "fillmode": "overlay",
              "size": 10,
              "solidity": 0.2
             }
            },
            "type": "histogram"
           }
          ],
          "histogram2d": [
           {
            "colorbar": {
             "outlinewidth": 0,
             "ticks": ""
            },
            "colorscale": [
             [
              0,
              "#0d0887"
             ],
             [
              0.1111111111111111,
              "#46039f"
             ],
             [
              0.2222222222222222,
              "#7201a8"
             ],
             [
              0.3333333333333333,
              "#9c179e"
             ],
             [
              0.4444444444444444,
              "#bd3786"
             ],
             [
              0.5555555555555556,
              "#d8576b"
             ],
             [
              0.6666666666666666,
              "#ed7953"
             ],
             [
              0.7777777777777778,
              "#fb9f3a"
             ],
             [
              0.8888888888888888,
              "#fdca26"
             ],
             [
              1,
              "#f0f921"
             ]
            ],
            "type": "histogram2d"
           }
          ],
          "histogram2dcontour": [
           {
            "colorbar": {
             "outlinewidth": 0,
             "ticks": ""
            },
            "colorscale": [
             [
              0,
              "#0d0887"
             ],
             [
              0.1111111111111111,
              "#46039f"
             ],
             [
              0.2222222222222222,
              "#7201a8"
             ],
             [
              0.3333333333333333,
              "#9c179e"
             ],
             [
              0.4444444444444444,
              "#bd3786"
             ],
             [
              0.5555555555555556,
              "#d8576b"
             ],
             [
              0.6666666666666666,
              "#ed7953"
             ],
             [
              0.7777777777777778,
              "#fb9f3a"
             ],
             [
              0.8888888888888888,
              "#fdca26"
             ],
             [
              1,
              "#f0f921"
             ]
            ],
            "type": "histogram2dcontour"
           }
          ],
          "mesh3d": [
           {
            "colorbar": {
             "outlinewidth": 0,
             "ticks": ""
            },
            "type": "mesh3d"
           }
          ],
          "parcoords": [
           {
            "line": {
             "colorbar": {
              "outlinewidth": 0,
              "ticks": ""
             }
            },
            "type": "parcoords"
           }
          ],
          "pie": [
           {
            "automargin": true,
            "type": "pie"
           }
          ],
          "scatter": [
           {
            "fillpattern": {
             "fillmode": "overlay",
             "size": 10,
             "solidity": 0.2
            },
            "type": "scatter"
           }
          ],
          "scatter3d": [
           {
            "line": {
             "colorbar": {
              "outlinewidth": 0,
              "ticks": ""
             }
            },
            "marker": {
             "colorbar": {
              "outlinewidth": 0,
              "ticks": ""
             }
            },
            "type": "scatter3d"
           }
          ],
          "scattercarpet": [
           {
            "marker": {
             "colorbar": {
              "outlinewidth": 0,
              "ticks": ""
             }
            },
            "type": "scattercarpet"
           }
          ],
          "scattergeo": [
           {
            "marker": {
             "colorbar": {
              "outlinewidth": 0,
              "ticks": ""
             }
            },
            "type": "scattergeo"
           }
          ],
          "scattergl": [
           {
            "marker": {
             "colorbar": {
              "outlinewidth": 0,
              "ticks": ""
             }
            },
            "type": "scattergl"
           }
          ],
          "scattermapbox": [
           {
            "marker": {
             "colorbar": {
              "outlinewidth": 0,
              "ticks": ""
             }
            },
            "type": "scattermapbox"
           }
          ],
          "scatterpolar": [
           {
            "marker": {
             "colorbar": {
              "outlinewidth": 0,
              "ticks": ""
             }
            },
            "type": "scatterpolar"
           }
          ],
          "scatterpolargl": [
           {
            "marker": {
             "colorbar": {
              "outlinewidth": 0,
              "ticks": ""
             }
            },
            "type": "scatterpolargl"
           }
          ],
          "scatterternary": [
           {
            "marker": {
             "colorbar": {
              "outlinewidth": 0,
              "ticks": ""
             }
            },
            "type": "scatterternary"
           }
          ],
          "surface": [
           {
            "colorbar": {
             "outlinewidth": 0,
             "ticks": ""
            },
            "colorscale": [
             [
              0,
              "#0d0887"
             ],
             [
              0.1111111111111111,
              "#46039f"
             ],
             [
              0.2222222222222222,
              "#7201a8"
             ],
             [
              0.3333333333333333,
              "#9c179e"
             ],
             [
              0.4444444444444444,
              "#bd3786"
             ],
             [
              0.5555555555555556,
              "#d8576b"
             ],
             [
              0.6666666666666666,
              "#ed7953"
             ],
             [
              0.7777777777777778,
              "#fb9f3a"
             ],
             [
              0.8888888888888888,
              "#fdca26"
             ],
             [
              1,
              "#f0f921"
             ]
            ],
            "type": "surface"
           }
          ],
          "table": [
           {
            "cells": {
             "fill": {
              "color": "#EBF0F8"
             },
             "line": {
              "color": "white"
             }
            },
            "header": {
             "fill": {
              "color": "#C8D4E3"
             },
             "line": {
              "color": "white"
             }
            },
            "type": "table"
           }
          ]
         },
         "layout": {
          "annotationdefaults": {
           "arrowcolor": "#2a3f5f",
           "arrowhead": 0,
           "arrowwidth": 1
          },
          "autotypenumbers": "strict",
          "coloraxis": {
           "colorbar": {
            "outlinewidth": 0,
            "ticks": ""
           }
          },
          "colorscale": {
           "diverging": [
            [
             0,
             "#8e0152"
            ],
            [
             0.1,
             "#c51b7d"
            ],
            [
             0.2,
             "#de77ae"
            ],
            [
             0.3,
             "#f1b6da"
            ],
            [
             0.4,
             "#fde0ef"
            ],
            [
             0.5,
             "#f7f7f7"
            ],
            [
             0.6,
             "#e6f5d0"
            ],
            [
             0.7,
             "#b8e186"
            ],
            [
             0.8,
             "#7fbc41"
            ],
            [
             0.9,
             "#4d9221"
            ],
            [
             1,
             "#276419"
            ]
           ],
           "sequential": [
            [
             0,
             "#0d0887"
            ],
            [
             0.1111111111111111,
             "#46039f"
            ],
            [
             0.2222222222222222,
             "#7201a8"
            ],
            [
             0.3333333333333333,
             "#9c179e"
            ],
            [
             0.4444444444444444,
             "#bd3786"
            ],
            [
             0.5555555555555556,
             "#d8576b"
            ],
            [
             0.6666666666666666,
             "#ed7953"
            ],
            [
             0.7777777777777778,
             "#fb9f3a"
            ],
            [
             0.8888888888888888,
             "#fdca26"
            ],
            [
             1,
             "#f0f921"
            ]
           ],
           "sequentialminus": [
            [
             0,
             "#0d0887"
            ],
            [
             0.1111111111111111,
             "#46039f"
            ],
            [
             0.2222222222222222,
             "#7201a8"
            ],
            [
             0.3333333333333333,
             "#9c179e"
            ],
            [
             0.4444444444444444,
             "#bd3786"
            ],
            [
             0.5555555555555556,
             "#d8576b"
            ],
            [
             0.6666666666666666,
             "#ed7953"
            ],
            [
             0.7777777777777778,
             "#fb9f3a"
            ],
            [
             0.8888888888888888,
             "#fdca26"
            ],
            [
             1,
             "#f0f921"
            ]
           ]
          },
          "colorway": [
           "#636efa",
           "#EF553B",
           "#00cc96",
           "#ab63fa",
           "#FFA15A",
           "#19d3f3",
           "#FF6692",
           "#B6E880",
           "#FF97FF",
           "#FECB52"
          ],
          "font": {
           "color": "#2a3f5f"
          },
          "geo": {
           "bgcolor": "white",
           "lakecolor": "white",
           "landcolor": "#E5ECF6",
           "showlakes": true,
           "showland": true,
           "subunitcolor": "white"
          },
          "hoverlabel": {
           "align": "left"
          },
          "hovermode": "closest",
          "mapbox": {
           "style": "light"
          },
          "paper_bgcolor": "white",
          "plot_bgcolor": "#E5ECF6",
          "polar": {
           "angularaxis": {
            "gridcolor": "white",
            "linecolor": "white",
            "ticks": ""
           },
           "bgcolor": "#E5ECF6",
           "radialaxis": {
            "gridcolor": "white",
            "linecolor": "white",
            "ticks": ""
           }
          },
          "scene": {
           "xaxis": {
            "backgroundcolor": "#E5ECF6",
            "gridcolor": "white",
            "gridwidth": 2,
            "linecolor": "white",
            "showbackground": true,
            "ticks": "",
            "zerolinecolor": "white"
           },
           "yaxis": {
            "backgroundcolor": "#E5ECF6",
            "gridcolor": "white",
            "gridwidth": 2,
            "linecolor": "white",
            "showbackground": true,
            "ticks": "",
            "zerolinecolor": "white"
           },
           "zaxis": {
            "backgroundcolor": "#E5ECF6",
            "gridcolor": "white",
            "gridwidth": 2,
            "linecolor": "white",
            "showbackground": true,
            "ticks": "",
            "zerolinecolor": "white"
           }
          },
          "shapedefaults": {
           "line": {
            "color": "#2a3f5f"
           }
          },
          "ternary": {
           "aaxis": {
            "gridcolor": "white",
            "linecolor": "white",
            "ticks": ""
           },
           "baxis": {
            "gridcolor": "white",
            "linecolor": "white",
            "ticks": ""
           },
           "bgcolor": "#E5ECF6",
           "caxis": {
            "gridcolor": "white",
            "linecolor": "white",
            "ticks": ""
           }
          },
          "title": {
           "x": 0.05
          },
          "xaxis": {
           "automargin": true,
           "gridcolor": "white",
           "linecolor": "white",
           "ticks": "",
           "title": {
            "standoff": 15
           },
           "zerolinecolor": "white",
           "zerolinewidth": 2
          },
          "yaxis": {
           "automargin": true,
           "gridcolor": "white",
           "linecolor": "white",
           "ticks": "",
           "title": {
            "standoff": 15
           },
           "zerolinecolor": "white",
           "zerolinewidth": 2
          }
         }
        },
        "title": {
         "text": "Elasticsearch Search Results - Headlines Distribution"
        }
       }
      }
     },
     "metadata": {},
     "output_type": "display_data"
    }
   ],
   "source": [
    "# Extract categories\n",
    "categories = [hit['_source']['headline'] for hit in result['hits']['hits']]\n",
    "\n",
    "# Create pie chart\n",
    "fig = px.pie(names=categories)\n",
    "\n",
    "# Update layout\n",
    "fig.update_layout(\n",
    "    title='Elasticsearch Search Results - Headlines Distribution'\n",
    ")\n",
    "\n",
    "# Show plot\n",
    "fig.show()"
   ]
  }
 ],
 "metadata": {
  "kernelspec": {
   "display_name": "Python 3",
   "language": "python",
   "name": "python3"
  },
  "language_info": {
   "codemirror_mode": {
    "name": "ipython",
    "version": 3
   },
   "file_extension": ".py",
   "mimetype": "text/x-python",
   "name": "python",
   "nbconvert_exporter": "python",
   "pygments_lexer": "ipython3",
   "version": "3.12.4"
  }
 },
 "nbformat": 4,
 "nbformat_minor": 2
}
