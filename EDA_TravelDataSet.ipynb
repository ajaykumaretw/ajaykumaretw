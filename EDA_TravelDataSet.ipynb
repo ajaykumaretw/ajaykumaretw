{
  "nbformat": 4,
  "nbformat_minor": 0,
  "metadata": {
    "colab": {
      "provenance": [],
      "toc_visible": true,
      "authorship_tag": "ABX9TyOeeT4DB2sBJmKL0jdcy+lG",
      "include_colab_link": true
    },
    "kernelspec": {
      "name": "python3",
      "display_name": "Python 3"
    },
    "language_info": {
      "name": "python"
    }
  },
  "cells": [
    {
      "cell_type": "markdown",
      "metadata": {
        "id": "view-in-github",
        "colab_type": "text"
      },
      "source": [
        "<a href=\"https://colab.research.google.com/github/ajaykumaretw/ajaykumaretw/blob/main/EDA_TravelDataSet.ipynb\" target=\"_parent\"><img src=\"https://colab.research.google.com/assets/colab-badge.svg\" alt=\"Open In Colab\"/></a>"
      ]
    },
    {
      "cell_type": "code",
      "execution_count": 3,
      "metadata": {
        "id": "ohs7YBZnp0Vr",
        "outputId": "3c958d0d-b9f6-4568-a67d-54fd1953fe27",
        "colab": {
          "base_uri": "https://localhost:8080/"
        }
      },
      "outputs": [
        {
          "output_type": "stream",
          "name": "stdout",
          "text": [
            "['number_of_arrival', 'number_of_departure', 'expenditure for travel item', 'receipts for travel items', 'receipts (% of total exports)', 'population', 'GDP', 'Metadata - Countries', 'Metadata - Indicators', 'country code']\n"
          ]
        }
      ],
      "source": [
        "import pandas as pd\n",
        "result=pd.ExcelFile('/content/sample_data/travel_data.xls')\n",
        "tabsNames=result.sheet_names\n",
        "print(tabsNames)"
      ]
    }
  ]
}