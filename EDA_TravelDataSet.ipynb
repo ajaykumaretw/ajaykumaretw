{
  "nbformat": 4,
  "nbformat_minor": 0,
  "metadata": {
    "colab": {
      "provenance": [],
      "mount_file_id": "https://github.com/ajaykumaretw/ajaykumaretw/blob/main/EDA_TravelDataSet.ipynb",
      "authorship_tag": "ABX9TyMU1OXjqetuJZggqxsWmXew",
      "include_colab_link": true
    },
    "kernelspec": {
      "name": "python3",
      "display_name": "Python 3"
    },
    "language_info": {
      "name": "python"
    }
  },
  "cells": [
    {
      "cell_type": "markdown",
      "metadata": {
        "id": "view-in-github",
        "colab_type": "text"
      },
      "source": [
        "<a href=\"https://colab.research.google.com/github/ajaykumaretw/ajaykumaretw/blob/main/EDA_TravelDataSet.ipynb\" target=\"_parent\"><img src=\"https://colab.research.google.com/assets/colab-badge.svg\" alt=\"Open In Colab\"/></a>"
      ]
    },
    {
      "cell_type": "code",
      "execution_count": 5,
      "metadata": {
        "id": "ohs7YBZnp0Vr",
        "outputId": "a25af1aa-8a8f-42dc-96ad-fa8f7bf5dee3",
        "colab": {
          "base_uri": "https://localhost:8080/"
        }
      },
      "outputs": [
        {
          "output_type": "stream",
          "name": "stdout",
          "text": [
            "['number_of_arrival', 'number_of_departure', 'expenditure for travel item', 'receipts for travel items', 'receipts (% of total exports)', 'population', 'GDP', 'Metadata - Countries', 'Metadata - Indicators', 'country code']\n"
          ]
        }
      ],
      "source": [
        "import pandas as pd\n",
        "#Load excel file\n",
        "finalResult=pd.ExcelFile('/content/drive/MyDrive/travel_data.xls')\n",
        "#Getting tabs Names\n",
        "print(finalResult.sheet_names)"
      ]
    },
    {
      "cell_type": "code",
      "source": [],
      "metadata": {
        "id": "AgqwMpwTyAu2"
      },
      "execution_count": null,
      "outputs": []
    }
  ]
}