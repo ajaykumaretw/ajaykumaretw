{
  "nbformat": 4,
  "nbformat_minor": 0,
  "metadata": {
    "colab": {
      "provenance": [],
      "mount_file_id": "https://github.com/ajaykumaretw/ajaykumaretw/blob/main/EDA_TravelDataSet.ipynb",
      "authorship_tag": "ABX9TyOhOGp41JDA/Yykdte4RMLZ",
      "include_colab_link": true
    },
    "kernelspec": {
      "name": "python3",
      "display_name": "Python 3"
    },
    "language_info": {
      "name": "python"
    }
  },
  "cells": [
    {
      "cell_type": "markdown",
      "metadata": {
        "id": "view-in-github",
        "colab_type": "text"
      },
      "source": [
        "<a href=\"https://colab.research.google.com/github/ajaykumaretw/ajaykumaretw/blob/main/EDA_TravelDataSet.ipynb\" target=\"_parent\"><img src=\"https://colab.research.google.com/assets/colab-badge.svg\" alt=\"Open In Colab\"/></a>"
      ]
    },
    {
      "cell_type": "code",
      "execution_count": null,
      "metadata": {
        "id": "ohs7YBZnp0Vr"
      },
      "outputs": [],
      "source": [
        "import pandas as pd\n",
        "#Load excel file\n",
        "finalResult=pd.excel_file('/content/drive/MyDrive/travel_data.xls')\n",
        "#Getting tabs Names\n",
        "print(finalResult.sheet_names)"
      ]
    }
  ]
}