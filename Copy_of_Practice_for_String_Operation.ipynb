{
  "nbformat": 4,
  "nbformat_minor": 0,
  "metadata": {
    "colab": {
      "provenance": [],
      "authorship_tag": "ABX9TyMPA/VSQLdxAJZ4ik3w3jvw",
      "include_colab_link": true
    },
    "kernelspec": {
      "name": "python3",
      "display_name": "Python 3"
    },
    "language_info": {
      "name": "python"
    }
  },
  "cells": [
    {
      "cell_type": "markdown",
      "metadata": {
        "id": "view-in-github",
        "colab_type": "text"
      },
      "source": [
        "<a href=\"https://colab.research.google.com/github/ajaykumaretw/ajaykumaretw/blob/MyLocalBranch/Copy_of_Practice_for_String_Operation.ipynb\" target=\"_parent\"><img src=\"https://colab.research.google.com/assets/colab-badge.svg\" alt=\"Open In Colab\"/></a>"
      ]
    },
    {
      "cell_type": "code",
      "source": [
        "S1='aAjayPractice For String Operation'\n",
        "S2='ajayddddddddddddddddddddddddddddd'\n",
        "S1==S2\n",
        "S1>S2\n",
        "len(S2)\n",
        "S2[1:4]\n",
        "S2[::]\n",
        "S2[::-1]\n",
        "S3='''ajay'''\n",
        "#print(S3)\n",
        "S1[0]\n",
        "#Slice operator never raise index error\n",
        "S1[10000000000000:9:1]"
      ],
      "metadata": {
        "colab": {
          "base_uri": "https://localhost:8080/",
          "height": 35
        },
        "id": "DqgKmU7Or9Mn",
        "outputId": "8420232a-264a-4410-8cfd-908ba49bccdf"
      },
      "execution_count": null,
      "outputs": [
        {
          "output_type": "execute_result",
          "data": {
            "text/plain": [
              "''"
            ],
            "application/vnd.google.colaboratory.intrinsic+json": {
              "type": "string"
            }
          },
          "metadata": {},
          "execution_count": 1
        }
      ]
    },
    {
      "cell_type": "code",
      "source": [
        "#Backward\n",
        "s=\"Learning Python is very easy!!!\"\n",
        "SLen=len(s)\n",
        "i=-1\n",
        "while i>-SLen:\n",
        "  #print (s[i],end='')\n",
        "  i=i-1\n",
        "#Forward\n",
        "j=0\n",
        "while j<SLen:\n",
        " print(s[j],end='')\n",
        " j+=1\n"
      ],
      "metadata": {
        "colab": {
          "base_uri": "https://localhost:8080/"
        },
        "id": "MD9_b-mQxVQm",
        "outputId": "616eb18d-804e-4271-d170-8747123181c1"
      },
      "execution_count": null,
      "outputs": [
        {
          "output_type": "stream",
          "name": "stdout",
          "text": [
            "Learning Python is very easy!!!"
          ]
        }
      ]
    },
    {
      "cell_type": "markdown",
      "source": [],
      "metadata": {
        "id": "eTUFxxpp1kFY"
      }
    },
    {
      "cell_type": "markdown",
      "source": [
        "Check Membership"
      ],
      "metadata": {
        "id": "zwJ2SK3a2niH"
      }
    },
    {
      "cell_type": "code",
      "source": [
        "\n",
        "def CompareSring(a,b):\n",
        " if(a==b):\n",
        "  print (\"Both Sring are Same\")\n",
        " elif(a>b):\n",
        "  print (\"Sring first is greater than Second\")\n",
        " else:\n",
        "  print (\"String Second is greator than first string\")\n",
        "CompareSring(S1,S2)\n",
        "\n"
      ],
      "metadata": {
        "colab": {
          "base_uri": "https://localhost:8080/"
        },
        "id": "OMKpdBj-2qyh",
        "outputId": "5c518675-14ef-455f-ec3a-0d3b33a2b185"
      },
      "execution_count": null,
      "outputs": [
        {
          "output_type": "stream",
          "name": "stdout",
          "text": [
            "String Second is greator than first string\n"
          ]
        }
      ]
    },
    {
      "cell_type": "markdown",
      "source": [],
      "metadata": {
        "id": "H49WBJIZ5x5h"
      }
    },
    {
      "cell_type": "markdown",
      "source": [
        "# **Removing Space from String:-**"
      ],
      "metadata": {
        "id": "PAPZx_-h5zcB"
      }
    },
    {
      "cell_type": "code",
      "source": [
        "#strip\n",
        "#lstrip\n",
        "#rstrip\n",
        "MySting=\"   Ajay  Kumar \"\n",
        "print(MySting.strip())\n",
        "print(MySting.lstrip())\n",
        "print(MySting.rstrip())"
      ],
      "metadata": {
        "colab": {
          "base_uri": "https://localhost:8080/"
        },
        "id": "1hs0Ojq3573F",
        "outputId": "a4a972e2-74a4-4383-a905-17502d459b30"
      },
      "execution_count": null,
      "outputs": [
        {
          "output_type": "stream",
          "name": "stdout",
          "text": [
            "Ajay  Kumar\n",
            "Ajay  Kumar \n",
            "   Ajay  Kumar\n"
          ]
        }
      ]
    },
    {
      "cell_type": "code",
      "source": [
        "City= input(\"Enter the Name of City: \")\n",
        "if City=='Noida':\n",
        "     print (City)\n",
        "elif City=='Delhi':\n",
        "     print (City)\n",
        "else:\n",
        "     print(f'This City : {City} is not valid City')\n"
      ],
      "metadata": {
        "colab": {
          "base_uri": "https://localhost:8080/"
        },
        "id": "vEriwrsF69vw",
        "outputId": "bbf8a381-3c81-4563-eff5-e81fbfc6c78d"
      },
      "execution_count": null,
      "outputs": [
        {
          "output_type": "stream",
          "name": "stdout",
          "text": [
            "Enter the Name of City: Etawah\n",
            "This City : Etawah is not valid City\n"
          ]
        }
      ]
    },
    {
      "cell_type": "markdown",
      "source": [
        "**Finding SubString**"
      ],
      "metadata": {
        "id": "5UHAmCYu-pZJ"
      }
    },
    {
      "cell_type": "code",
      "source": [
        "#find\n",
        "#rfind\n",
        "#index\n",
        "#rindex\n",
        "#Syntex for find find('substring',start,end)\n",
        "IndQuotes=\"India is great so I love my country very much\"\n",
        "myLen=len(IndQuotes)\n",
        "#IndQuotes.find('so',-1,0)\n",
        "\n",
        "print(IndQuotes.rfind('much1'))\n",
        "try:\n",
        " print(IndQuotes.index('much'))\n",
        "except:\n",
        " print (\"Exception occured\")\n",
        "else:\n",
        "  print (\"Well done\")\n",
        "finally:\n",
        "  print (\"We got the error\")\n",
        "\n",
        "\n",
        "\n"
      ],
      "metadata": {
        "colab": {
          "base_uri": "https://localhost:8080/"
        },
        "id": "HMM0xnuR-v8J",
        "outputId": "89f4dda4-1bcb-415a-cf2f-765566fd29ff"
      },
      "execution_count": null,
      "outputs": [
        {
          "output_type": "stream",
          "name": "stdout",
          "text": [
            "-1\n",
            "41\n",
            "Well done\n",
            "We got the error\n"
          ]
        }
      ]
    },
    {
      "cell_type": "code",
      "source": [
        "\n",
        "#Program to display all Positions of Substring in a given\n",
        "SubQuotes=\"My\"\n",
        "Quotes=\"MyIndia is great so I love My country My India very much My\"\n",
        "strLength=len(Quotes)\n",
        "i=0\n",
        "sIndex=0\n",
        "while i<strLength:\n",
        "  sIndex=Quotes.find(SubQuotes,sIndex,strLength)\n",
        "  if(sIndex==-1):\n",
        "   break\n",
        "  print(f'{SubQuotes} index is',sIndex )\n",
        "  sIndex=sIndex+len(SubQuotes)\n",
        "i=i+1\n",
        "\n"
      ],
      "metadata": {
        "colab": {
          "base_uri": "https://localhost:8080/"
        },
        "id": "X5mZSNhBC4Dz",
        "outputId": "69a801e7-5101-4342-e743-08d96f95a64e"
      },
      "execution_count": null,
      "outputs": [
        {
          "output_type": "stream",
          "name": "stdout",
          "text": [
            "My index is 0\n",
            "My index is 27\n",
            "My index is 38\n",
            "My index is 57\n"
          ]
        }
      ]
    },
    {
      "cell_type": "markdown",
      "source": [
        "**Count sub string from string**\n",
        "\n",
        "---\n",
        "\n"
      ],
      "metadata": {
        "id": "F4hYBxg3FQKV"
      }
    },
    {
      "cell_type": "code",
      "source": [
        "_string=\"abmyjjkkmykkkkkhhhmykllllmylllllmykkkk\"\n",
        "a=_string.split('z')\n",
        "a\n",
        "\n"
      ],
      "metadata": {
        "colab": {
          "base_uri": "https://localhost:8080/"
        },
        "id": "A05EIjC7KS8x",
        "outputId": "00b128a9-83f5-47a0-ac61-89d34db5f137"
      },
      "execution_count": null,
      "outputs": [
        {
          "output_type": "execute_result",
          "data": {
            "text/plain": [
              "['abmyjjkkmykkkkkhhhmykllllmylllllmykkkk']"
            ]
          },
          "metadata": {},
          "execution_count": 22
        }
      ]
    },
    {
      "cell_type": "code",
      "source": [
        "_string=\"abmyjjkkmykkkkkhhhmykllllmylllllmykkkk\"\n",
        "_string.count('my')\n",
        "_string=_string.replace('my','My')\n",
        "_string"
      ],
      "metadata": {
        "colab": {
          "base_uri": "https://localhost:8080/",
          "height": 35
        },
        "id": "wUDm6b18Fe8I",
        "outputId": "5bfc8e4b-2f05-48f0-f85f-7a79ef855269"
      },
      "execution_count": null,
      "outputs": [
        {
          "output_type": "execute_result",
          "data": {
            "text/plain": [
              "'abMyjjkkMykkkkkhhhMykllllMylllllMykkkk'"
            ],
            "application/vnd.google.colaboratory.intrinsic+json": {
              "type": "string"
            }
          },
          "metadata": {},
          "execution_count": 14
        }
      ]
    },
    {
      "cell_type": "markdown",
      "source": [],
      "metadata": {
        "id": "wlQpAWztC4x6"
      }
    },
    {
      "cell_type": "code",
      "source": [
        "_string=\"India\"\n",
        "_string1=\"is\"\n",
        "_string2=\"great\"\n",
        "a=_string+_string1+_string2\n",
        "print(a)\n",
        "b=':'.join(_string)\n",
        "list1= [\"data\",\"science\",\"ai\"]\n",
        "print(b)\n",
        "\n",
        "list2='_'.join(list1)\n",
        "print(list2)\n"
      ],
      "metadata": {
        "colab": {
          "base_uri": "https://localhost:8080/"
        },
        "id": "zQpBIKHrI_52",
        "outputId": "b0c5e131-8980-4f62-cb14-e90fa2402e0a"
      },
      "execution_count": null,
      "outputs": [
        {
          "output_type": "stream",
          "name": "stdout",
          "text": [
            "Indiaisgreat\n",
            "I:n:d:i:a\n",
            "data_science_ai\n"
          ]
        }
      ]
    },
    {
      "cell_type": "code",
      "source": [
        "print('LAS1'.isupper())"
      ],
      "metadata": {
        "colab": {
          "base_uri": "https://localhost:8080/"
        },
        "id": "sGlyK2G0_Rvi",
        "outputId": "ede32b10-8aec-47d5-cb79-d7bdc0397c03"
      },
      "execution_count": null,
      "outputs": [
        {
          "output_type": "stream",
          "name": "stdout",
          "text": [
            "True\n"
          ]
        }
      ]
    },
    {
      "cell_type": "code",
      "source": [
        "Name='Ajay Kumar'\n",
        "Age=36\n",
        "Salary=10000\n",
        "print(\"{}'s Age is {} And Salary is {}\".format(Name,Age,Salary))\n",
        "print(\"{0}'s Age is {1} And Salary is {2}\".format(Name,Age,Salary))\n",
        "print(\"{x}'s Age is {y} And Salary is {z}\".format(z=Salary,x=Name,y=Age))"
      ],
      "metadata": {
        "colab": {
          "base_uri": "https://localhost:8080/"
        },
        "id": "CBCpKoj_AmQz",
        "outputId": "5ccd76bb-04cd-4009-ab58-8ea469ac60a9"
      },
      "execution_count": null,
      "outputs": [
        {
          "output_type": "stream",
          "name": "stdout",
          "text": [
            "Ajay Kumar's Age is 36 And Salary is 10000\n",
            "Ajay Kumar's Age is 36 And Salary is 10000\n",
            "Ajay Kumar's Age is 36 And Salary is 10000\n"
          ]
        }
      ]
    },
    {
      "cell_type": "markdown",
      "source": [
        "**Reverse Order of Words**"
      ],
      "metadata": {
        "id": "5EXkLIp3DkiD"
      }
    },
    {
      "cell_type": "code",
      "source": [
        "_string=\"India is Great\"\n",
        "splitedString=_string.split(' ')\n",
        "splitedString.reverse()\n",
        "rev=''\n",
        "for item in splitedString:\n",
        "  rev=rev+' '+item\n",
        "print (rev)\n"
      ],
      "metadata": {
        "colab": {
          "base_uri": "https://localhost:8080/"
        },
        "id": "nc6brPjqDzAW",
        "outputId": "f4223350-b1f9-44ae-f2ee-da1aab3264c8"
      },
      "execution_count": null,
      "outputs": [
        {
          "output_type": "stream",
          "name": "stdout",
          "text": [
            " Great is India\n"
          ]
        }
      ]
    },
    {
      "cell_type": "markdown",
      "source": [
        "**Remove Duplicate from String**"
      ],
      "metadata": {
        "id": "W4Bsu5a1LNrP"
      }
    },
    {
      "cell_type": "code",
      "source": [
        "_string='ASadffAA'\n",
        "_len=len(_string)-1\n",
        "_list=[]\n",
        "i=0\n",
        "while _len>=i:\n",
        "   if _list.count(_string[i])==0:\n",
        "     _list.append(_string[i])\n",
        "   i=i+1\n",
        "print(''.join(_list))"
      ],
      "metadata": {
        "colab": {
          "base_uri": "https://localhost:8080/"
        },
        "id": "5kkNbA6yLXj9",
        "outputId": "316305b4-8308-42fd-c484-7b0567454138"
      },
      "execution_count": null,
      "outputs": [
        {
          "output_type": "stream",
          "name": "stdout",
          "text": [
            "ASadf\n"
          ]
        }
      ]
    },
    {
      "cell_type": "code",
      "source": [
        "s=\"asdtryyytvdsaafgrewavvff\"\n",
        "d={}\n",
        "\n",
        "for item in s:\n",
        "    if item in d.keys():\n",
        "     d[item]=d[item]+1\n",
        "    else:\n",
        "     d[item]=1\n",
        "\n",
        "for k,v in d.items():\n",
        " print(\"Element: {} has count: {}\".format(k,v) )"
      ],
      "metadata": {
        "id": "RLWIyoOvbO-M",
        "colab": {
          "base_uri": "https://localhost:8080/"
        },
        "outputId": "b0a9608f-5c90-4330-9cac-525d5783e01d"
      },
      "execution_count": 41,
      "outputs": [
        {
          "output_type": "stream",
          "name": "stdout",
          "text": [
            "Element: a has count: 4\n",
            "Element: s has count: 2\n",
            "Element: d has count: 2\n",
            "Element: t has count: 2\n",
            "Element: r has count: 2\n",
            "Element: y has count: 3\n",
            "Element: v has count: 3\n",
            "Element: f has count: 3\n",
            "Element: g has count: 1\n",
            "Element: e has count: 1\n",
            "Element: w has count: 1\n"
          ]
        }
      ]
    }
  ]
}